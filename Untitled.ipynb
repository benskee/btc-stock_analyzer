{
 "cells": [
  {
   "cell_type": "code",
   "execution_count": 1,
   "metadata": {},
   "outputs": [],
   "source": [
    "import pandas as pd"
   ]
  },
  {
   "cell_type": "code",
   "execution_count": 2,
   "metadata": {},
   "outputs": [],
   "source": [
    "df = pd.read_csv('save.csv')"
   ]
  },
  {
   "cell_type": "code",
   "execution_count": 3,
   "metadata": {},
   "outputs": [
    {
     "data": {
      "text/html": [
       "<div>\n",
       "<style scoped>\n",
       "    .dataframe tbody tr th:only-of-type {\n",
       "        vertical-align: middle;\n",
       "    }\n",
       "\n",
       "    .dataframe tbody tr th {\n",
       "        vertical-align: top;\n",
       "    }\n",
       "\n",
       "    .dataframe thead th {\n",
       "        text-align: right;\n",
       "    }\n",
       "</style>\n",
       "<table border=\"1\" class=\"dataframe\">\n",
       "  <thead>\n",
       "    <tr style=\"text-align: right;\">\n",
       "      <th></th>\n",
       "      <th>Date</th>\n",
       "      <th>Close/Last</th>\n",
       "      <th>Volume</th>\n",
       "      <th>Open</th>\n",
       "      <th>High</th>\n",
       "      <th>Low</th>\n",
       "    </tr>\n",
       "  </thead>\n",
       "  <tbody>\n",
       "    <tr>\n",
       "      <th>0</th>\n",
       "      <td>08/06/2020</td>\n",
       "      <td>$17.26</td>\n",
       "      <td>10967270</td>\n",
       "      <td>$17.3</td>\n",
       "      <td>$17.6499</td>\n",
       "      <td>$16.8387</td>\n",
       "    </tr>\n",
       "    <tr>\n",
       "      <th>1</th>\n",
       "      <td>08/05/2020</td>\n",
       "      <td>$17.15</td>\n",
       "      <td>16143430</td>\n",
       "      <td>$16.95</td>\n",
       "      <td>$17.52</td>\n",
       "      <td>$16.4</td>\n",
       "    </tr>\n",
       "    <tr>\n",
       "      <th>2</th>\n",
       "      <td>08/04/2020</td>\n",
       "      <td>$16.5</td>\n",
       "      <td>15034920</td>\n",
       "      <td>$15.46</td>\n",
       "      <td>$16.94</td>\n",
       "      <td>$15.45</td>\n",
       "    </tr>\n",
       "    <tr>\n",
       "      <th>3</th>\n",
       "      <td>08/03/2020</td>\n",
       "      <td>$15.37</td>\n",
       "      <td>15842450</td>\n",
       "      <td>$15.74</td>\n",
       "      <td>$15.8</td>\n",
       "      <td>$14.65</td>\n",
       "    </tr>\n",
       "    <tr>\n",
       "      <th>4</th>\n",
       "      <td>07/31/2020</td>\n",
       "      <td>$15.81</td>\n",
       "      <td>11920470</td>\n",
       "      <td>$16.04</td>\n",
       "      <td>$16.265</td>\n",
       "      <td>$15.42</td>\n",
       "    </tr>\n",
       "  </tbody>\n",
       "</table>\n",
       "</div>"
      ],
      "text/plain": [
       "         Date  Close/Last    Volume     Open       High        Low\n",
       "0  08/06/2020      $17.26  10967270    $17.3   $17.6499   $16.8387\n",
       "1  08/05/2020      $17.15  16143430   $16.95     $17.52      $16.4\n",
       "2  08/04/2020       $16.5  15034920   $15.46     $16.94     $15.45\n",
       "3  08/03/2020      $15.37  15842450   $15.74      $15.8     $14.65\n",
       "4  07/31/2020      $15.81  11920470   $16.04    $16.265     $15.42"
      ]
     },
     "execution_count": 3,
     "metadata": {},
     "output_type": "execute_result"
    }
   ],
   "source": [
    "df.head()"
   ]
  },
  {
   "cell_type": "code",
   "execution_count": 4,
   "metadata": {},
   "outputs": [
    {
     "data": {
      "text/plain": [
       "Date           object\n",
       " Close/Last    object\n",
       " Volume         int64\n",
       " Open          object\n",
       " High          object\n",
       " Low           object\n",
       "dtype: object"
      ]
     },
     "execution_count": 4,
     "metadata": {},
     "output_type": "execute_result"
    }
   ],
   "source": [
    "df.dtypes"
   ]
  },
  {
   "cell_type": "code",
   "execution_count": null,
   "metadata": {},
   "outputs": [],
   "source": [
    "df.to_csv('save1.csv', index=False)"
   ]
  }
 ],
 "metadata": {
  "kernelspec": {
   "display_name": "Python 3",
   "language": "python",
   "name": "python3"
  },
  "language_info": {
   "codemirror_mode": {
    "name": "ipython",
    "version": 3
   },
   "file_extension": ".py",
   "mimetype": "text/x-python",
   "name": "python",
   "nbconvert_exporter": "python",
   "pygments_lexer": "ipython3",
   "version": "3.7.6"
  }
 },
 "nbformat": 4,
 "nbformat_minor": 4
}
