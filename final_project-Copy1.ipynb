{
 "cells": [
  {
   "cell_type": "markdown",
   "metadata": {},
   "source": [
    "<div class=\"text-center\">\n",
    "        <h1>\n",
    "            Goethe Meets Grayscale\n",
    "        </h1>\n",
    "    </div>\n",
    "    <div class='text-center'>\n",
    "        <p>The glass weather barometer (also called a \"storm glass\") was developed in the 1800's by the\n",
    "            multi-talented Johann Wolfgang von Goethe. These devices are used to predict weather based on\n",
    "            atmospheric pressure. I believe that the recent price of Bitcoin can function as a storm glass for the\n",
    "            price of GBTC in the near future.</p>\n",
    "    </div>"
   ]
  },
  {
   "cell_type": "code",
   "execution_count": 1,
   "metadata": {},
   "outputs": [],
   "source": [
    "import requests\n",
    "import pandas as pd\n",
    "import numpy as np\n",
    "import matplotlib.pyplot as plt\n",
    "from datetime import datetime, timedelta"
   ]
  },
  {
   "cell_type": "code",
   "execution_count": 2,
   "metadata": {},
   "outputs": [
    {
     "data": {
      "text/plain": [
       "1368"
      ]
     },
     "execution_count": 2,
     "metadata": {},
     "output_type": "execute_result"
    }
   ],
   "source": [
    "df = pd.read_csv('gbtc.csv')\n",
    "len(df)"
   ]
  },
  {
   "cell_type": "code",
   "execution_count": 3,
   "metadata": {},
   "outputs": [
    {
     "data": {
      "text/html": [
       "<div>\n",
       "<style scoped>\n",
       "    .dataframe tbody tr th:only-of-type {\n",
       "        vertical-align: middle;\n",
       "    }\n",
       "\n",
       "    .dataframe tbody tr th {\n",
       "        vertical-align: top;\n",
       "    }\n",
       "\n",
       "    .dataframe thead th {\n",
       "        text-align: right;\n",
       "    }\n",
       "</style>\n",
       "<table border=\"1\" class=\"dataframe\">\n",
       "  <thead>\n",
       "    <tr style=\"text-align: right;\">\n",
       "      <th></th>\n",
       "      <th>Date</th>\n",
       "      <th>Close/Last</th>\n",
       "      <th>Volume</th>\n",
       "      <th>Open</th>\n",
       "      <th>High</th>\n",
       "      <th>Low</th>\n",
       "    </tr>\n",
       "  </thead>\n",
       "  <tbody>\n",
       "    <tr>\n",
       "      <th>0</th>\n",
       "      <td>08/05/2020</td>\n",
       "      <td>$3205.03</td>\n",
       "      <td>3930025</td>\n",
       "      <td>$3143.77</td>\n",
       "      <td>$3213.5859</td>\n",
       "      <td>$3127.3</td>\n",
       "    </tr>\n",
       "    <tr>\n",
       "      <th>1</th>\n",
       "      <td>08/04/2020</td>\n",
       "      <td>$3138.83</td>\n",
       "      <td>4694294</td>\n",
       "      <td>$3101.21</td>\n",
       "      <td>$3167.24</td>\n",
       "      <td>$3101.21</td>\n",
       "    </tr>\n",
       "    <tr>\n",
       "      <th>2</th>\n",
       "      <td>08/03/2020</td>\n",
       "      <td>$3111.89</td>\n",
       "      <td>5074663</td>\n",
       "      <td>$3180.51</td>\n",
       "      <td>$3184</td>\n",
       "      <td>$3104</td>\n",
       "    </tr>\n",
       "    <tr>\n",
       "      <th>3</th>\n",
       "      <td>07/31/2020</td>\n",
       "      <td>$3164.68</td>\n",
       "      <td>8083369</td>\n",
       "      <td>$3244</td>\n",
       "      <td>$3246.82</td>\n",
       "      <td>$3151</td>\n",
       "    </tr>\n",
       "    <tr>\n",
       "      <th>4</th>\n",
       "      <td>07/30/2020</td>\n",
       "      <td>$3051.88</td>\n",
       "      <td>6128265</td>\n",
       "      <td>$3014</td>\n",
       "      <td>$3092</td>\n",
       "      <td>$3005</td>\n",
       "    </tr>\n",
       "    <tr>\n",
       "      <th>...</th>\n",
       "      <td>...</td>\n",
       "      <td>...</td>\n",
       "      <td>...</td>\n",
       "      <td>...</td>\n",
       "      <td>...</td>\n",
       "      <td>...</td>\n",
       "    </tr>\n",
       "    <tr>\n",
       "      <th>313</th>\n",
       "      <td>05/09/2019</td>\n",
       "      <td>$1899.87</td>\n",
       "      <td>5308263</td>\n",
       "      <td>$1900</td>\n",
       "      <td>$1909.4</td>\n",
       "      <td>$1876</td>\n",
       "    </tr>\n",
       "    <tr>\n",
       "      <th>314</th>\n",
       "      <td>05/08/2019</td>\n",
       "      <td>$1917.77</td>\n",
       "      <td>4078568</td>\n",
       "      <td>$1918.87</td>\n",
       "      <td>$1935.37</td>\n",
       "      <td>$1910</td>\n",
       "    </tr>\n",
       "    <tr>\n",
       "      <th>315</th>\n",
       "      <td>05/07/2019</td>\n",
       "      <td>$1921</td>\n",
       "      <td>5902134</td>\n",
       "      <td>$1939.99</td>\n",
       "      <td>$1949.1005</td>\n",
       "      <td>$1903.3795</td>\n",
       "    </tr>\n",
       "    <tr>\n",
       "      <th>316</th>\n",
       "      <td>05/06/2019</td>\n",
       "      <td>$1950.55</td>\n",
       "      <td>5417841</td>\n",
       "      <td>$1917.98</td>\n",
       "      <td>$1959</td>\n",
       "      <td>$1910.5</td>\n",
       "    </tr>\n",
       "    <tr>\n",
       "      <th>317</th>\n",
       "      <td>05/03/2019</td>\n",
       "      <td>$1962.46</td>\n",
       "      <td>6381564</td>\n",
       "      <td>$1949</td>\n",
       "      <td>$1964.4</td>\n",
       "      <td>$1936</td>\n",
       "    </tr>\n",
       "  </tbody>\n",
       "</table>\n",
       "<p>318 rows × 6 columns</p>\n",
       "</div>"
      ],
      "text/plain": [
       "           Date  Close/Last   Volume       Open         High          Low\n",
       "0    08/05/2020    $3205.03  3930025   $3143.77   $3213.5859      $3127.3\n",
       "1    08/04/2020    $3138.83  4694294   $3101.21     $3167.24     $3101.21\n",
       "2    08/03/2020    $3111.89  5074663   $3180.51        $3184        $3104\n",
       "3    07/31/2020    $3164.68  8083369      $3244     $3246.82        $3151\n",
       "4    07/30/2020    $3051.88  6128265      $3014        $3092        $3005\n",
       "..          ...         ...      ...        ...          ...          ...\n",
       "313  05/09/2019    $1899.87  5308263      $1900      $1909.4        $1876\n",
       "314  05/08/2019    $1917.77  4078568   $1918.87     $1935.37        $1910\n",
       "315  05/07/2019       $1921  5902134   $1939.99   $1949.1005   $1903.3795\n",
       "316  05/06/2019    $1950.55  5417841   $1917.98        $1959      $1910.5\n",
       "317  05/03/2019    $1962.46  6381564      $1949      $1964.4        $1936\n",
       "\n",
       "[318 rows x 6 columns]"
      ]
     },
     "execution_count": 3,
     "metadata": {},
     "output_type": "execute_result"
    }
   ],
   "source": [
    "df_test = pd.read_csv('test.csv')\n",
    "df_test"
   ]
  },
  {
   "cell_type": "code",
   "execution_count": null,
   "metadata": {},
   "outputs": [],
   "source": []
  },
  {
   "cell_type": "code",
   "execution_count": 4,
   "metadata": {},
   "outputs": [
    {
     "data": {
      "text/html": [
       "<div>\n",
       "<style scoped>\n",
       "    .dataframe tbody tr th:only-of-type {\n",
       "        vertical-align: middle;\n",
       "    }\n",
       "\n",
       "    .dataframe tbody tr th {\n",
       "        vertical-align: top;\n",
       "    }\n",
       "\n",
       "    .dataframe thead th {\n",
       "        text-align: right;\n",
       "    }\n",
       "</style>\n",
       "<table border=\"1\" class=\"dataframe\">\n",
       "  <thead>\n",
       "    <tr style=\"text-align: right;\">\n",
       "      <th></th>\n",
       "      <th>Date</th>\n",
       "      <th>Close/Last</th>\n",
       "      <th>Volume</th>\n",
       "      <th>Open</th>\n",
       "      <th>High</th>\n",
       "      <th>Low</th>\n",
       "    </tr>\n",
       "  </thead>\n",
       "  <tbody>\n",
       "    <tr>\n",
       "      <th>0</th>\n",
       "      <td>08/03/2020</td>\n",
       "      <td>$13.34</td>\n",
       "      <td>10284780</td>\n",
       "      <td>$13.01</td>\n",
       "      <td>$13.45</td>\n",
       "      <td>$12.69</td>\n",
       "    </tr>\n",
       "    <tr>\n",
       "      <th>1</th>\n",
       "      <td>07/31/2020</td>\n",
       "      <td>$12.815</td>\n",
       "      <td>8779614</td>\n",
       "      <td>$12.32</td>\n",
       "      <td>$13.1</td>\n",
       "      <td>$12.12</td>\n",
       "    </tr>\n",
       "    <tr>\n",
       "      <th>2</th>\n",
       "      <td>07/30/2020</td>\n",
       "      <td>$12.225</td>\n",
       "      <td>8190939</td>\n",
       "      <td>$11.95</td>\n",
       "      <td>$12.33</td>\n",
       "      <td>$11.71</td>\n",
       "    </tr>\n",
       "    <tr>\n",
       "      <th>3</th>\n",
       "      <td>07/29/2020</td>\n",
       "      <td>$12.35</td>\n",
       "      <td>11708060</td>\n",
       "      <td>$12.91</td>\n",
       "      <td>$13.07</td>\n",
       "      <td>$12.25</td>\n",
       "    </tr>\n",
       "    <tr>\n",
       "      <th>4</th>\n",
       "      <td>07/28/2020</td>\n",
       "      <td>$12.53</td>\n",
       "      <td>19221550</td>\n",
       "      <td>$12.46</td>\n",
       "      <td>$13.2</td>\n",
       "      <td>$12.21</td>\n",
       "    </tr>\n",
       "    <tr>\n",
       "      <th>...</th>\n",
       "      <td>...</td>\n",
       "      <td>...</td>\n",
       "      <td>...</td>\n",
       "      <td>...</td>\n",
       "      <td>...</td>\n",
       "      <td>...</td>\n",
       "    </tr>\n",
       "    <tr>\n",
       "      <th>1363</th>\n",
       "      <td>03/05/2015</td>\n",
       "      <td>$0.2088</td>\n",
       "      <td>N/A</td>\n",
       "      <td>$0.2088</td>\n",
       "      <td>$0.2088</td>\n",
       "      <td>$0.2088</td>\n",
       "    </tr>\n",
       "    <tr>\n",
       "      <th>1364</th>\n",
       "      <td>03/04/2015</td>\n",
       "      <td>$0.2088</td>\n",
       "      <td>N/A</td>\n",
       "      <td>$0.2088</td>\n",
       "      <td>$0.2088</td>\n",
       "      <td>$0.2088</td>\n",
       "    </tr>\n",
       "    <tr>\n",
       "      <th>1365</th>\n",
       "      <td>03/03/2015</td>\n",
       "      <td>$0.2088</td>\n",
       "      <td>N/A</td>\n",
       "      <td>$0.2088</td>\n",
       "      <td>$0.2088</td>\n",
       "      <td>$0.2088</td>\n",
       "    </tr>\n",
       "    <tr>\n",
       "      <th>1366</th>\n",
       "      <td>03/02/2015</td>\n",
       "      <td>$0.2088</td>\n",
       "      <td>N/A</td>\n",
       "      <td>$0.2088</td>\n",
       "      <td>$0.2088</td>\n",
       "      <td>$0.2088</td>\n",
       "    </tr>\n",
       "    <tr>\n",
       "      <th>1367</th>\n",
       "      <td>02/27/2015</td>\n",
       "      <td>$0.2088</td>\n",
       "      <td>N/A</td>\n",
       "      <td>$0.2088</td>\n",
       "      <td>$0.2088</td>\n",
       "      <td>$0.2088</td>\n",
       "    </tr>\n",
       "  </tbody>\n",
       "</table>\n",
       "<p>1368 rows × 6 columns</p>\n",
       "</div>"
      ],
      "text/plain": [
       "            Date  Close/Last     Volume      Open      High       Low\n",
       "0     08/03/2020      $13.34   10284780    $13.01    $13.45    $12.69\n",
       "1     07/31/2020     $12.815    8779614    $12.32     $13.1    $12.12\n",
       "2     07/30/2020     $12.225    8190939    $11.95    $12.33    $11.71\n",
       "3     07/29/2020      $12.35   11708060    $12.91    $13.07    $12.25\n",
       "4     07/28/2020      $12.53   19221550    $12.46     $13.2    $12.21\n",
       "...          ...         ...        ...       ...       ...       ...\n",
       "1363  03/05/2015     $0.2088        N/A   $0.2088   $0.2088   $0.2088\n",
       "1364  03/04/2015     $0.2088        N/A   $0.2088   $0.2088   $0.2088\n",
       "1365  03/03/2015     $0.2088        N/A   $0.2088   $0.2088   $0.2088\n",
       "1366  03/02/2015     $0.2088        N/A   $0.2088   $0.2088   $0.2088\n",
       "1367  02/27/2015     $0.2088        N/A   $0.2088   $0.2088   $0.2088\n",
       "\n",
       "[1368 rows x 6 columns]"
      ]
     },
     "execution_count": 4,
     "metadata": {},
     "output_type": "execute_result"
    }
   ],
   "source": [
    "df"
   ]
  },
  {
   "cell_type": "code",
   "execution_count": 5,
   "metadata": {},
   "outputs": [
    {
     "data": {
      "text/plain": [
       "448"
      ]
     },
     "execution_count": 5,
     "metadata": {},
     "output_type": "execute_result"
    }
   ],
   "source": [
    "btc_df = pd.read_csv('btc.csv')\n",
    "len(btc_df)"
   ]
  },
  {
   "cell_type": "code",
   "execution_count": 6,
   "metadata": {},
   "outputs": [
    {
     "data": {
      "text/html": [
       "<div>\n",
       "<style scoped>\n",
       "    .dataframe tbody tr th:only-of-type {\n",
       "        vertical-align: middle;\n",
       "    }\n",
       "\n",
       "    .dataframe tbody tr th {\n",
       "        vertical-align: top;\n",
       "    }\n",
       "\n",
       "    .dataframe thead th {\n",
       "        text-align: right;\n",
       "    }\n",
       "</style>\n",
       "<table border=\"1\" class=\"dataframe\">\n",
       "  <thead>\n",
       "    <tr style=\"text-align: right;\">\n",
       "      <th></th>\n",
       "      <th>Date</th>\n",
       "      <th>Close/Last</th>\n",
       "      <th>Volume</th>\n",
       "      <th>Open</th>\n",
       "      <th>High</th>\n",
       "      <th>Low</th>\n",
       "    </tr>\n",
       "  </thead>\n",
       "  <tbody>\n",
       "    <tr>\n",
       "      <th>432</th>\n",
       "      <td>05/07/2019</td>\n",
       "      <td>5880.1</td>\n",
       "      <td>N/A</td>\n",
       "      <td>5949.2</td>\n",
       "      <td>5891.3</td>\n",
       "      <td>5799.1</td>\n",
       "    </tr>\n",
       "    <tr>\n",
       "      <th>433</th>\n",
       "      <td>05/06/2019</td>\n",
       "      <td>5944.2</td>\n",
       "      <td>N/A</td>\n",
       "      <td>5692.5</td>\n",
       "      <td>5944.2</td>\n",
       "      <td>5745.5</td>\n",
       "    </tr>\n",
       "    <tr>\n",
       "      <th>434</th>\n",
       "      <td>05/05/2019</td>\n",
       "      <td>5688.1</td>\n",
       "      <td>N/A</td>\n",
       "      <td>5640.4</td>\n",
       "      <td>5774.5</td>\n",
       "      <td>5688.1</td>\n",
       "    </tr>\n",
       "    <tr>\n",
       "      <th>435</th>\n",
       "      <td>05/04/2019</td>\n",
       "      <td>5819.9</td>\n",
       "      <td>N/A</td>\n",
       "      <td>5230.5</td>\n",
       "      <td>5821.0</td>\n",
       "      <td>5319.5</td>\n",
       "    </tr>\n",
       "    <tr>\n",
       "      <th>436</th>\n",
       "      <td>05/03/2019</td>\n",
       "      <td>5837.0</td>\n",
       "      <td>N/A</td>\n",
       "      <td>5230.5</td>\n",
       "      <td>5837.0</td>\n",
       "      <td>5319.5</td>\n",
       "    </tr>\n",
       "  </tbody>\n",
       "</table>\n",
       "</div>"
      ],
      "text/plain": [
       "           Date   Close/Last  Volume    Open    High     Low\n",
       "432  05/07/2019       5880.1     N/A  5949.2  5891.3  5799.1\n",
       "433  05/06/2019       5944.2     N/A  5692.5  5944.2  5745.5\n",
       "434  05/05/2019       5688.1     N/A  5640.4  5774.5  5688.1\n",
       "435  05/04/2019       5819.9     N/A  5230.5  5821.0  5319.5\n",
       "436  05/03/2019       5837.0     N/A  5230.5  5837.0  5319.5"
      ]
     },
     "execution_count": 6,
     "metadata": {},
     "output_type": "execute_result"
    }
   ],
   "source": [
    "df_btc = btc_df[0:437]\n",
    "df_btc.tail(5)"
   ]
  },
  {
   "cell_type": "code",
   "execution_count": 7,
   "metadata": {},
   "outputs": [
    {
     "data": {
      "text/html": [
       "<div>\n",
       "<style scoped>\n",
       "    .dataframe tbody tr th:only-of-type {\n",
       "        vertical-align: middle;\n",
       "    }\n",
       "\n",
       "    .dataframe tbody tr th {\n",
       "        vertical-align: top;\n",
       "    }\n",
       "\n",
       "    .dataframe thead th {\n",
       "        text-align: right;\n",
       "    }\n",
       "</style>\n",
       "<table border=\"1\" class=\"dataframe\">\n",
       "  <thead>\n",
       "    <tr style=\"text-align: right;\">\n",
       "      <th></th>\n",
       "      <th>Date</th>\n",
       "      <th>Close/Last</th>\n",
       "      <th>Volume</th>\n",
       "      <th>Open</th>\n",
       "      <th>High</th>\n",
       "      <th>Low</th>\n",
       "    </tr>\n",
       "  </thead>\n",
       "  <tbody>\n",
       "    <tr>\n",
       "      <th>300</th>\n",
       "      <td>10/08/2019</td>\n",
       "      <td>8166.4</td>\n",
       "      <td>N/A</td>\n",
       "      <td>8280.6</td>\n",
       "      <td>8205.6</td>\n",
       "      <td>8159.6</td>\n",
       "    </tr>\n",
       "    <tr>\n",
       "      <th>301</th>\n",
       "      <td>10/07/2019</td>\n",
       "      <td>8282.3</td>\n",
       "      <td>N/A</td>\n",
       "      <td>7834.5</td>\n",
       "      <td>8287.6</td>\n",
       "      <td>8198.5</td>\n",
       "    </tr>\n",
       "    <tr>\n",
       "      <th>302</th>\n",
       "      <td>10/06/2019</td>\n",
       "      <td>7965.4</td>\n",
       "      <td>N/A</td>\n",
       "      <td>8140.4</td>\n",
       "      <td>8145.5</td>\n",
       "      <td>7944.2</td>\n",
       "    </tr>\n",
       "    <tr>\n",
       "      <th>303</th>\n",
       "      <td>10/05/2019</td>\n",
       "      <td>8064.4</td>\n",
       "      <td>N/A</td>\n",
       "      <td>8141.7</td>\n",
       "      <td>8145.5</td>\n",
       "      <td>8031.4</td>\n",
       "    </tr>\n",
       "    <tr>\n",
       "      <th>304</th>\n",
       "      <td>10/04/2019</td>\n",
       "      <td>8121.6</td>\n",
       "      <td>N/A</td>\n",
       "      <td>8129.6</td>\n",
       "      <td>8160.3</td>\n",
       "      <td>8116.6</td>\n",
       "    </tr>\n",
       "    <tr>\n",
       "      <th>305</th>\n",
       "      <td>10/03/2019</td>\n",
       "      <td>8131.8</td>\n",
       "      <td>N/A</td>\n",
       "      <td>8347.2</td>\n",
       "      <td>8233.6</td>\n",
       "      <td>8079.3</td>\n",
       "    </tr>\n",
       "    <tr>\n",
       "      <th>306</th>\n",
       "      <td>10/02/2019</td>\n",
       "      <td>8341.7</td>\n",
       "      <td>N/A</td>\n",
       "      <td>8289.4</td>\n",
       "      <td>8391.7</td>\n",
       "      <td>8315.4</td>\n",
       "    </tr>\n",
       "    <tr>\n",
       "      <th>307</th>\n",
       "      <td>10/01/2019</td>\n",
       "      <td>8293.4</td>\n",
       "      <td>N/A</td>\n",
       "      <td>8269.6</td>\n",
       "      <td>8330.0</td>\n",
       "      <td>8277.5</td>\n",
       "    </tr>\n",
       "    <tr>\n",
       "      <th>308</th>\n",
       "      <td>09/30/2019</td>\n",
       "      <td>8275.9</td>\n",
       "      <td>N/A</td>\n",
       "      <td>8022.2</td>\n",
       "      <td>8293.1</td>\n",
       "      <td>8187.9</td>\n",
       "    </tr>\n",
       "    <tr>\n",
       "      <th>309</th>\n",
       "      <td>09/29/2019</td>\n",
       "      <td>7995.0</td>\n",
       "      <td>N/A</td>\n",
       "      <td>8178.3</td>\n",
       "      <td>8060.0</td>\n",
       "      <td>7978.6</td>\n",
       "    </tr>\n",
       "    <tr>\n",
       "      <th>310</th>\n",
       "      <td>09/28/2019</td>\n",
       "      <td>8165.8</td>\n",
       "      <td>N/A</td>\n",
       "      <td>8170.8</td>\n",
       "      <td>8226.8</td>\n",
       "      <td>8164.7</td>\n",
       "    </tr>\n",
       "    <tr>\n",
       "      <th>311</th>\n",
       "      <td>09/27/2019</td>\n",
       "      <td>8151.5</td>\n",
       "      <td>N/A</td>\n",
       "      <td>7996.0</td>\n",
       "      <td>8213.9</td>\n",
       "      <td>8129.0</td>\n",
       "    </tr>\n",
       "    <tr>\n",
       "      <th>312</th>\n",
       "      <td>09/26/2019</td>\n",
       "      <td>7970.9</td>\n",
       "      <td>N/A</td>\n",
       "      <td>8385.5</td>\n",
       "      <td>8091.3</td>\n",
       "      <td>7957.2</td>\n",
       "    </tr>\n",
       "    <tr>\n",
       "      <th>313</th>\n",
       "      <td>09/25/2019</td>\n",
       "      <td>8364.4</td>\n",
       "      <td>N/A</td>\n",
       "      <td>8695.5</td>\n",
       "      <td>8443.3</td>\n",
       "      <td>8355.6</td>\n",
       "    </tr>\n",
       "    <tr>\n",
       "      <th>314</th>\n",
       "      <td>09/24/2019</td>\n",
       "      <td>8682.6</td>\n",
       "      <td>N/A</td>\n",
       "      <td>9734.5</td>\n",
       "      <td>8729.8</td>\n",
       "      <td>8510.2</td>\n",
       "    </tr>\n",
       "    <tr>\n",
       "      <th>315</th>\n",
       "      <td>09/23/2019</td>\n",
       "      <td>9720.3</td>\n",
       "      <td>N/A</td>\n",
       "      <td>9974.5</td>\n",
       "      <td>9787.6</td>\n",
       "      <td>9630.4</td>\n",
       "    </tr>\n",
       "    <tr>\n",
       "      <th>316</th>\n",
       "      <td>09/22/2019</td>\n",
       "      <td>9992.3</td>\n",
       "      <td>N/A</td>\n",
       "      <td>9916.0</td>\n",
       "      <td>10048.8</td>\n",
       "      <td>9968.3</td>\n",
       "    </tr>\n",
       "    <tr>\n",
       "      <th>317</th>\n",
       "      <td>09/21/2019</td>\n",
       "      <td>9908.8</td>\n",
       "      <td>N/A</td>\n",
       "      <td>10155.9</td>\n",
       "      <td>10008.0</td>\n",
       "      <td>9885.3</td>\n",
       "    </tr>\n",
       "    <tr>\n",
       "      <th>318</th>\n",
       "      <td>09/20/2019</td>\n",
       "      <td>10163.7</td>\n",
       "      <td>N/A</td>\n",
       "      <td>10204.0</td>\n",
       "      <td>10177.9</td>\n",
       "      <td>10147.6</td>\n",
       "    </tr>\n",
       "    <tr>\n",
       "      <th>319</th>\n",
       "      <td>09/19/2019</td>\n",
       "      <td>10235.3</td>\n",
       "      <td>N/A</td>\n",
       "      <td>10181.1</td>\n",
       "      <td>10279.5</td>\n",
       "      <td>10217.6</td>\n",
       "    </tr>\n",
       "    <tr>\n",
       "      <th>320</th>\n",
       "      <td>09/18/2019</td>\n",
       "      <td>10139.6</td>\n",
       "      <td>N/A</td>\n",
       "      <td>10248.4</td>\n",
       "      <td>10187.4</td>\n",
       "      <td>10118.0</td>\n",
       "    </tr>\n",
       "    <tr>\n",
       "      <th>321</th>\n",
       "      <td>09/17/2019</td>\n",
       "      <td>10226.5</td>\n",
       "      <td>N/A</td>\n",
       "      <td>10217.0</td>\n",
       "      <td>10230.7</td>\n",
       "      <td>10191.6</td>\n",
       "    </tr>\n",
       "    <tr>\n",
       "      <th>322</th>\n",
       "      <td>09/16/2019</td>\n",
       "      <td>10233.8</td>\n",
       "      <td>N/A</td>\n",
       "      <td>10346.0</td>\n",
       "      <td>10261.2</td>\n",
       "      <td>10198.4</td>\n",
       "    </tr>\n",
       "    <tr>\n",
       "      <th>323</th>\n",
       "      <td>09/15/2019</td>\n",
       "      <td>10348.6</td>\n",
       "      <td>N/A</td>\n",
       "      <td>10325.4</td>\n",
       "      <td>10360.5</td>\n",
       "      <td>10309.0</td>\n",
       "    </tr>\n",
       "    <tr>\n",
       "      <th>324</th>\n",
       "      <td>09/14/2019</td>\n",
       "      <td>10319.0</td>\n",
       "      <td>N/A</td>\n",
       "      <td>10305.9</td>\n",
       "      <td>10360.4</td>\n",
       "      <td>10312.2</td>\n",
       "    </tr>\n",
       "    <tr>\n",
       "      <th>325</th>\n",
       "      <td>09/13/2019</td>\n",
       "      <td>10303.3</td>\n",
       "      <td>N/A</td>\n",
       "      <td>10337.4</td>\n",
       "      <td>10355.0</td>\n",
       "      <td>10299.1</td>\n",
       "    </tr>\n",
       "    <tr>\n",
       "      <th>326</th>\n",
       "      <td>09/12/2019</td>\n",
       "      <td>10372.2</td>\n",
       "      <td>N/A</td>\n",
       "      <td>10132.4</td>\n",
       "      <td>10441.4</td>\n",
       "      <td>10336.7</td>\n",
       "    </tr>\n",
       "    <tr>\n",
       "      <th>327</th>\n",
       "      <td>09/11/2019</td>\n",
       "      <td>10109.6</td>\n",
       "      <td>N/A</td>\n",
       "      <td>10076.4</td>\n",
       "      <td>10200.7</td>\n",
       "      <td>10107.0</td>\n",
       "    </tr>\n",
       "    <tr>\n",
       "      <th>328</th>\n",
       "      <td>09/10/2019</td>\n",
       "      <td>10080.7</td>\n",
       "      <td>N/A</td>\n",
       "      <td>10334.3</td>\n",
       "      <td>10257.5</td>\n",
       "      <td>10075.1</td>\n",
       "    </tr>\n",
       "    <tr>\n",
       "      <th>329</th>\n",
       "      <td>09/09/2019</td>\n",
       "      <td>10408.1</td>\n",
       "      <td>N/A</td>\n",
       "      <td>10392.9</td>\n",
       "      <td>10478.0</td>\n",
       "      <td>10095.7</td>\n",
       "    </tr>\n",
       "    <tr>\n",
       "      <th>330</th>\n",
       "      <td>09/08/2019</td>\n",
       "      <td>10361.1</td>\n",
       "      <td>N/A</td>\n",
       "      <td>10485.9</td>\n",
       "      <td>10411.9</td>\n",
       "      <td>10360.5</td>\n",
       "    </tr>\n",
       "    <tr>\n",
       "      <th>331</th>\n",
       "      <td>09/07/2019</td>\n",
       "      <td>10487.1</td>\n",
       "      <td>N/A</td>\n",
       "      <td>10335.5</td>\n",
       "      <td>10515.1</td>\n",
       "      <td>10461.6</td>\n",
       "    </tr>\n",
       "    <tr>\n",
       "      <th>332</th>\n",
       "      <td>09/06/2019</td>\n",
       "      <td>10363.7</td>\n",
       "      <td>N/A</td>\n",
       "      <td>10643.7</td>\n",
       "      <td>10379.4</td>\n",
       "      <td>10302.3</td>\n",
       "    </tr>\n",
       "    <tr>\n",
       "      <th>333</th>\n",
       "      <td>09/05/2019</td>\n",
       "      <td>10586.0</td>\n",
       "      <td>N/A</td>\n",
       "      <td>10533.7</td>\n",
       "      <td>10596.9</td>\n",
       "      <td>10557.8</td>\n",
       "    </tr>\n",
       "    <tr>\n",
       "      <th>334</th>\n",
       "      <td>09/04/2019</td>\n",
       "      <td>10512.6</td>\n",
       "      <td>N/A</td>\n",
       "      <td>10532.2</td>\n",
       "      <td>10571.1</td>\n",
       "      <td>10497.4</td>\n",
       "    </tr>\n",
       "    <tr>\n",
       "      <th>335</th>\n",
       "      <td>08/16/2019</td>\n",
       "      <td>10416.8</td>\n",
       "      <td>N/A</td>\n",
       "      <td>10042.0</td>\n",
       "      <td>10530.9</td>\n",
       "      <td>9788.6</td>\n",
       "    </tr>\n",
       "    <tr>\n",
       "      <th>336</th>\n",
       "      <td>08/15/2019</td>\n",
       "      <td>10376.0</td>\n",
       "      <td>N/A</td>\n",
       "      <td>10040.1</td>\n",
       "      <td>10413.8</td>\n",
       "      <td>10253.9</td>\n",
       "    </tr>\n",
       "    <tr>\n",
       "      <th>337</th>\n",
       "      <td>08/14/2019</td>\n",
       "      <td>10013.8</td>\n",
       "      <td>N/A</td>\n",
       "      <td>10612.1</td>\n",
       "      <td>10195.2</td>\n",
       "      <td>10013.8</td>\n",
       "    </tr>\n",
       "    <tr>\n",
       "      <th>338</th>\n",
       "      <td>08/13/2019</td>\n",
       "      <td>10640.9</td>\n",
       "      <td>N/A</td>\n",
       "      <td>11406.1</td>\n",
       "      <td>10894.5</td>\n",
       "      <td>10554.4</td>\n",
       "    </tr>\n",
       "    <tr>\n",
       "      <th>339</th>\n",
       "      <td>08/11/2019</td>\n",
       "      <td>11354.6</td>\n",
       "      <td>N/A</td>\n",
       "      <td>11583.0</td>\n",
       "      <td>11728.4</td>\n",
       "      <td>11146.1</td>\n",
       "    </tr>\n",
       "    <tr>\n",
       "      <th>340</th>\n",
       "      <td>08/10/2019</td>\n",
       "      <td>11391.0</td>\n",
       "      <td>N/A</td>\n",
       "      <td>12117.7</td>\n",
       "      <td>11445.0</td>\n",
       "      <td>11300.6</td>\n",
       "    </tr>\n",
       "    <tr>\n",
       "      <th>341</th>\n",
       "      <td>08/06/2019</td>\n",
       "      <td>11786.2</td>\n",
       "      <td>N/A</td>\n",
       "      <td>11628.9</td>\n",
       "      <td>12291.9</td>\n",
       "      <td>11588.7</td>\n",
       "    </tr>\n",
       "    <tr>\n",
       "      <th>342</th>\n",
       "      <td>08/05/2019</td>\n",
       "      <td>11601.4</td>\n",
       "      <td>N/A</td>\n",
       "      <td>11410.6</td>\n",
       "      <td>11830.2</td>\n",
       "      <td>11588.7</td>\n",
       "    </tr>\n",
       "    <tr>\n",
       "      <th>343</th>\n",
       "      <td>08/04/2019</td>\n",
       "      <td>11389.1</td>\n",
       "      <td>N/A</td>\n",
       "      <td>10850.7</td>\n",
       "      <td>11443.7</td>\n",
       "      <td>10935.5</td>\n",
       "    </tr>\n",
       "    <tr>\n",
       "      <th>344</th>\n",
       "      <td>08/03/2019</td>\n",
       "      <td>10845.5</td>\n",
       "      <td>N/A</td>\n",
       "      <td>10641.0</td>\n",
       "      <td>10889.0</td>\n",
       "      <td>10810.1</td>\n",
       "    </tr>\n",
       "    <tr>\n",
       "      <th>345</th>\n",
       "      <td>08/02/2019</td>\n",
       "      <td>10775.8</td>\n",
       "      <td>N/A</td>\n",
       "      <td>10381.7</td>\n",
       "      <td>10785.3</td>\n",
       "      <td>10504.5</td>\n",
       "    </tr>\n",
       "    <tr>\n",
       "      <th>346</th>\n",
       "      <td>08/01/2019</td>\n",
       "      <td>10385.5</td>\n",
       "      <td>N/A</td>\n",
       "      <td>10024.7</td>\n",
       "      <td>10439.9</td>\n",
       "      <td>10331.9</td>\n",
       "    </tr>\n",
       "    <tr>\n",
       "      <th>347</th>\n",
       "      <td>07/31/2019</td>\n",
       "      <td>10010.7</td>\n",
       "      <td>N/A</td>\n",
       "      <td>9692.7</td>\n",
       "      <td>10145.0</td>\n",
       "      <td>9993.1</td>\n",
       "    </tr>\n",
       "    <tr>\n",
       "      <th>348</th>\n",
       "      <td>07/30/2019</td>\n",
       "      <td>9678.3</td>\n",
       "      <td>N/A</td>\n",
       "      <td>9504.1</td>\n",
       "      <td>9703.9</td>\n",
       "      <td>9562.4</td>\n",
       "    </tr>\n",
       "    <tr>\n",
       "      <th>349</th>\n",
       "      <td>07/29/2019</td>\n",
       "      <td>9544.6</td>\n",
       "      <td>N/A</td>\n",
       "      <td>9802.1</td>\n",
       "      <td>9607.5</td>\n",
       "      <td>9544.6</td>\n",
       "    </tr>\n",
       "  </tbody>\n",
       "</table>\n",
       "</div>"
      ],
      "text/plain": [
       "           Date   Close/Last  Volume     Open     High      Low\n",
       "300  10/08/2019       8166.4     N/A   8280.6   8205.6   8159.6\n",
       "301  10/07/2019       8282.3     N/A   7834.5   8287.6   8198.5\n",
       "302  10/06/2019       7965.4     N/A   8140.4   8145.5   7944.2\n",
       "303  10/05/2019       8064.4     N/A   8141.7   8145.5   8031.4\n",
       "304  10/04/2019       8121.6     N/A   8129.6   8160.3   8116.6\n",
       "305  10/03/2019       8131.8     N/A   8347.2   8233.6   8079.3\n",
       "306  10/02/2019       8341.7     N/A   8289.4   8391.7   8315.4\n",
       "307  10/01/2019       8293.4     N/A   8269.6   8330.0   8277.5\n",
       "308  09/30/2019       8275.9     N/A   8022.2   8293.1   8187.9\n",
       "309  09/29/2019       7995.0     N/A   8178.3   8060.0   7978.6\n",
       "310  09/28/2019       8165.8     N/A   8170.8   8226.8   8164.7\n",
       "311  09/27/2019       8151.5     N/A   7996.0   8213.9   8129.0\n",
       "312  09/26/2019       7970.9     N/A   8385.5   8091.3   7957.2\n",
       "313  09/25/2019       8364.4     N/A   8695.5   8443.3   8355.6\n",
       "314  09/24/2019       8682.6     N/A   9734.5   8729.8   8510.2\n",
       "315  09/23/2019       9720.3     N/A   9974.5   9787.6   9630.4\n",
       "316  09/22/2019       9992.3     N/A   9916.0  10048.8   9968.3\n",
       "317  09/21/2019       9908.8     N/A  10155.9  10008.0   9885.3\n",
       "318  09/20/2019      10163.7     N/A  10204.0  10177.9  10147.6\n",
       "319  09/19/2019      10235.3     N/A  10181.1  10279.5  10217.6\n",
       "320  09/18/2019      10139.6     N/A  10248.4  10187.4  10118.0\n",
       "321  09/17/2019      10226.5     N/A  10217.0  10230.7  10191.6\n",
       "322  09/16/2019      10233.8     N/A  10346.0  10261.2  10198.4\n",
       "323  09/15/2019      10348.6     N/A  10325.4  10360.5  10309.0\n",
       "324  09/14/2019      10319.0     N/A  10305.9  10360.4  10312.2\n",
       "325  09/13/2019      10303.3     N/A  10337.4  10355.0  10299.1\n",
       "326  09/12/2019      10372.2     N/A  10132.4  10441.4  10336.7\n",
       "327  09/11/2019      10109.6     N/A  10076.4  10200.7  10107.0\n",
       "328  09/10/2019      10080.7     N/A  10334.3  10257.5  10075.1\n",
       "329  09/09/2019      10408.1     N/A  10392.9  10478.0  10095.7\n",
       "330  09/08/2019      10361.1     N/A  10485.9  10411.9  10360.5\n",
       "331  09/07/2019      10487.1     N/A  10335.5  10515.1  10461.6\n",
       "332  09/06/2019      10363.7     N/A  10643.7  10379.4  10302.3\n",
       "333  09/05/2019      10586.0     N/A  10533.7  10596.9  10557.8\n",
       "334  09/04/2019      10512.6     N/A  10532.2  10571.1  10497.4\n",
       "335  08/16/2019      10416.8     N/A  10042.0  10530.9   9788.6\n",
       "336  08/15/2019      10376.0     N/A  10040.1  10413.8  10253.9\n",
       "337  08/14/2019      10013.8     N/A  10612.1  10195.2  10013.8\n",
       "338  08/13/2019      10640.9     N/A  11406.1  10894.5  10554.4\n",
       "339  08/11/2019      11354.6     N/A  11583.0  11728.4  11146.1\n",
       "340  08/10/2019      11391.0     N/A  12117.7  11445.0  11300.6\n",
       "341  08/06/2019      11786.2     N/A  11628.9  12291.9  11588.7\n",
       "342  08/05/2019      11601.4     N/A  11410.6  11830.2  11588.7\n",
       "343  08/04/2019      11389.1     N/A  10850.7  11443.7  10935.5\n",
       "344  08/03/2019      10845.5     N/A  10641.0  10889.0  10810.1\n",
       "345  08/02/2019      10775.8     N/A  10381.7  10785.3  10504.5\n",
       "346  08/01/2019      10385.5     N/A  10024.7  10439.9  10331.9\n",
       "347  07/31/2019      10010.7     N/A   9692.7  10145.0   9993.1\n",
       "348  07/30/2019       9678.3     N/A   9504.1   9703.9   9562.4\n",
       "349  07/29/2019       9544.6     N/A   9802.1   9607.5   9544.6"
      ]
     },
     "execution_count": 7,
     "metadata": {},
     "output_type": "execute_result"
    }
   ],
   "source": [
    "df_btc[300:350]"
   ]
  },
  {
   "cell_type": "code",
   "execution_count": 8,
   "metadata": {},
   "outputs": [
    {
     "name": "stderr",
     "output_type": "stream",
     "text": [
      "C:\\ProgramData\\Anaconda3\\lib\\site-packages\\pandas\\core\\frame.py:4133: SettingWithCopyWarning: \n",
      "A value is trying to be set on a copy of a slice from a DataFrame\n",
      "\n",
      "See the caveats in the documentation: https://pandas.pydata.org/pandas-docs/stable/user_guide/indexing.html#returning-a-view-versus-a-copy\n",
      "  errors=errors,\n"
     ]
    },
    {
     "data": {
      "text/plain": [
       "Index(['date', 'close/last', 'volume', 'open', 'high', 'low'], dtype='object')"
      ]
     },
     "execution_count": 8,
     "metadata": {},
     "output_type": "execute_result"
    }
   ],
   "source": [
    "df_btc.rename(columns=lambda x: x.replace(' ', '').lower(), inplace=True)\n",
    "df_btc.columns"
   ]
  },
  {
   "cell_type": "code",
   "execution_count": 9,
   "metadata": {
    "scrolled": true
   },
   "outputs": [
    {
     "data": {
      "text/html": [
       "<div>\n",
       "<style scoped>\n",
       "    .dataframe tbody tr th:only-of-type {\n",
       "        vertical-align: middle;\n",
       "    }\n",
       "\n",
       "    .dataframe tbody tr th {\n",
       "        vertical-align: top;\n",
       "    }\n",
       "\n",
       "    .dataframe thead th {\n",
       "        text-align: right;\n",
       "    }\n",
       "</style>\n",
       "<table border=\"1\" class=\"dataframe\">\n",
       "  <thead>\n",
       "    <tr style=\"text-align: right;\">\n",
       "      <th></th>\n",
       "      <th>Date</th>\n",
       "      <th>Close/Last</th>\n",
       "      <th>Volume</th>\n",
       "      <th>Open</th>\n",
       "      <th>High</th>\n",
       "      <th>Low</th>\n",
       "    </tr>\n",
       "  </thead>\n",
       "  <tbody>\n",
       "    <tr>\n",
       "      <th>311</th>\n",
       "      <td>05/09/2019</td>\n",
       "      <td>$8.23</td>\n",
       "      <td>4997935</td>\n",
       "      <td>$7.995</td>\n",
       "      <td>$8.257</td>\n",
       "      <td>$7.91</td>\n",
       "    </tr>\n",
       "    <tr>\n",
       "      <th>312</th>\n",
       "      <td>05/08/2019</td>\n",
       "      <td>$7.84</td>\n",
       "      <td>2924494</td>\n",
       "      <td>$7.87</td>\n",
       "      <td>$7.95</td>\n",
       "      <td>$7.67</td>\n",
       "    </tr>\n",
       "    <tr>\n",
       "      <th>313</th>\n",
       "      <td>05/07/2019</td>\n",
       "      <td>$7.81</td>\n",
       "      <td>5468593</td>\n",
       "      <td>$7.69</td>\n",
       "      <td>$8.02</td>\n",
       "      <td>$7.6</td>\n",
       "    </tr>\n",
       "    <tr>\n",
       "      <th>314</th>\n",
       "      <td>05/06/2019</td>\n",
       "      <td>$7.52</td>\n",
       "      <td>3350629</td>\n",
       "      <td>$7.25</td>\n",
       "      <td>$7.61</td>\n",
       "      <td>$7.02</td>\n",
       "    </tr>\n",
       "    <tr>\n",
       "      <th>315</th>\n",
       "      <td>05/03/2019</td>\n",
       "      <td>$7.325</td>\n",
       "      <td>6058170</td>\n",
       "      <td>$7.34</td>\n",
       "      <td>$7.67</td>\n",
       "      <td>$7.21</td>\n",
       "    </tr>\n",
       "  </tbody>\n",
       "</table>\n",
       "</div>"
      ],
      "text/plain": [
       "           Date  Close/Last    Volume     Open     High     Low\n",
       "311  05/09/2019       $8.23   4997935   $7.995   $8.257   $7.91\n",
       "312  05/08/2019       $7.84   2924494    $7.87    $7.95   $7.67\n",
       "313  05/07/2019       $7.81   5468593    $7.69    $8.02    $7.6\n",
       "314  05/06/2019       $7.52   3350629    $7.25    $7.61   $7.02\n",
       "315  05/03/2019      $7.325   6058170    $7.34    $7.67   $7.21"
      ]
     },
     "execution_count": 9,
     "metadata": {},
     "output_type": "execute_result"
    }
   ],
   "source": [
    "df_gbtc = df[0:316]\n",
    "df_gbtc.tail(5)"
   ]
  },
  {
   "cell_type": "code",
   "execution_count": 10,
   "metadata": {},
   "outputs": [
    {
     "name": "stderr",
     "output_type": "stream",
     "text": [
      "C:\\ProgramData\\Anaconda3\\lib\\site-packages\\IPython\\core\\interactiveshell.py:3331: SettingWithCopyWarning: \n",
      "A value is trying to be set on a copy of a slice from a DataFrame\n",
      "\n",
      "See the caveats in the documentation: https://pandas.pydata.org/pandas-docs/stable/user_guide/indexing.html#returning-a-view-versus-a-copy\n",
      "  exec(code_obj, self.user_global_ns, self.user_ns)\n"
     ]
    }
   ],
   "source": [
    "for date in range(len(df_gbtc.Date)):\n",
    "    df_gbtc.Date[date] = datetime.strptime(df_gbtc.Date[date], '%m/%d/%Y').date()"
   ]
  },
  {
   "cell_type": "code",
   "execution_count": 11,
   "metadata": {},
   "outputs": [
    {
     "data": {
      "text/plain": [
       "datetime.date"
      ]
     },
     "execution_count": 11,
     "metadata": {},
     "output_type": "execute_result"
    }
   ],
   "source": [
    "type(df_gbtc.Date[0])"
   ]
  },
  {
   "cell_type": "code",
   "execution_count": 12,
   "metadata": {},
   "outputs": [
    {
     "name": "stderr",
     "output_type": "stream",
     "text": [
      "C:\\ProgramData\\Anaconda3\\lib\\site-packages\\ipykernel_launcher.py:2: SettingWithCopyWarning: \n",
      "A value is trying to be set on a copy of a slice from a DataFrame\n",
      "\n",
      "See the caveats in the documentation: https://pandas.pydata.org/pandas-docs/stable/user_guide/indexing.html#returning-a-view-versus-a-copy\n",
      "  \n"
     ]
    }
   ],
   "source": [
    "for date in range(len(df_btc.date)):\n",
    "    df_btc.date[date] = datetime.strptime(df_btc.date[date], '%m/%d/%Y').date()"
   ]
  },
  {
   "cell_type": "code",
   "execution_count": 13,
   "metadata": {},
   "outputs": [
    {
     "data": {
      "text/plain": [
       "datetime.date"
      ]
     },
     "execution_count": 13,
     "metadata": {},
     "output_type": "execute_result"
    }
   ],
   "source": [
    "type(df_btc.date[0])"
   ]
  },
  {
   "cell_type": "code",
   "execution_count": 14,
   "metadata": {},
   "outputs": [
    {
     "name": "stderr",
     "output_type": "stream",
     "text": [
      "C:\\ProgramData\\Anaconda3\\lib\\site-packages\\ipykernel_launcher.py:2: SettingWithCopyWarning: \n",
      "A value is trying to be set on a copy of a slice from a DataFrame.\n",
      "Try using .loc[row_indexer,col_indexer] = value instead\n",
      "\n",
      "See the caveats in the documentation: https://pandas.pydata.org/pandas-docs/stable/user_guide/indexing.html#returning-a-view-versus-a-copy\n",
      "  \n"
     ]
    },
    {
     "data": {
      "text/html": [
       "<div>\n",
       "<style scoped>\n",
       "    .dataframe tbody tr th:only-of-type {\n",
       "        vertical-align: middle;\n",
       "    }\n",
       "\n",
       "    .dataframe tbody tr th {\n",
       "        vertical-align: top;\n",
       "    }\n",
       "\n",
       "    .dataframe thead th {\n",
       "        text-align: right;\n",
       "    }\n",
       "</style>\n",
       "<table border=\"1\" class=\"dataframe\">\n",
       "  <thead>\n",
       "    <tr style=\"text-align: right;\">\n",
       "      <th></th>\n",
       "      <th>Date</th>\n",
       "      <th>Close/Last</th>\n",
       "      <th>Volume</th>\n",
       "      <th>Open</th>\n",
       "      <th>High</th>\n",
       "      <th>Low</th>\n",
       "    </tr>\n",
       "  </thead>\n",
       "  <tbody>\n",
       "    <tr>\n",
       "      <th>0</th>\n",
       "      <td>2020-08-03</td>\n",
       "      <td>13.340</td>\n",
       "      <td>10284780.0</td>\n",
       "      <td>13.01</td>\n",
       "      <td>13.45</td>\n",
       "      <td>12.69</td>\n",
       "    </tr>\n",
       "    <tr>\n",
       "      <th>1</th>\n",
       "      <td>2020-07-31</td>\n",
       "      <td>12.815</td>\n",
       "      <td>8779614.0</td>\n",
       "      <td>12.32</td>\n",
       "      <td>13.10</td>\n",
       "      <td>12.12</td>\n",
       "    </tr>\n",
       "    <tr>\n",
       "      <th>2</th>\n",
       "      <td>2020-07-30</td>\n",
       "      <td>12.225</td>\n",
       "      <td>8190939.0</td>\n",
       "      <td>11.95</td>\n",
       "      <td>12.33</td>\n",
       "      <td>11.71</td>\n",
       "    </tr>\n",
       "    <tr>\n",
       "      <th>3</th>\n",
       "      <td>2020-07-29</td>\n",
       "      <td>12.350</td>\n",
       "      <td>11708060.0</td>\n",
       "      <td>12.91</td>\n",
       "      <td>13.07</td>\n",
       "      <td>12.25</td>\n",
       "    </tr>\n",
       "    <tr>\n",
       "      <th>4</th>\n",
       "      <td>2020-07-28</td>\n",
       "      <td>12.530</td>\n",
       "      <td>19221550.0</td>\n",
       "      <td>12.46</td>\n",
       "      <td>13.20</td>\n",
       "      <td>12.21</td>\n",
       "    </tr>\n",
       "  </tbody>\n",
       "</table>\n",
       "</div>"
      ],
      "text/plain": [
       "         Date   Close/Last      Volume   Open   High    Low\n",
       "0  2020-08-03       13.340  10284780.0  13.01  13.45  12.69\n",
       "1  2020-07-31       12.815   8779614.0  12.32  13.10  12.12\n",
       "2  2020-07-30       12.225   8190939.0  11.95  12.33  11.71\n",
       "3  2020-07-29       12.350  11708060.0  12.91  13.07  12.25\n",
       "4  2020-07-28       12.530  19221550.0  12.46  13.20  12.21"
      ]
     },
     "execution_count": 14,
     "metadata": {},
     "output_type": "execute_result"
    }
   ],
   "source": [
    "for c in [' Close/Last', ' Volume', ' Open', ' High', ' Low']:\n",
    "    df_gbtc[c] = df_gbtc[c].str.replace('$', '').astype(float)\n",
    "df_gbtc.head(5)"
   ]
  },
  {
   "cell_type": "code",
   "execution_count": 15,
   "metadata": {},
   "outputs": [
    {
     "name": "stderr",
     "output_type": "stream",
     "text": [
      "C:\\ProgramData\\Anaconda3\\lib\\site-packages\\pandas\\core\\frame.py:4133: SettingWithCopyWarning: \n",
      "A value is trying to be set on a copy of a slice from a DataFrame\n",
      "\n",
      "See the caveats in the documentation: https://pandas.pydata.org/pandas-docs/stable/user_guide/indexing.html#returning-a-view-versus-a-copy\n",
      "  errors=errors,\n"
     ]
    },
    {
     "data": {
      "text/plain": [
       "Index(['date', 'close/last', 'volume', 'open', 'high', 'low'], dtype='object')"
      ]
     },
     "execution_count": 15,
     "metadata": {},
     "output_type": "execute_result"
    }
   ],
   "source": [
    "df_gbtc.rename(columns=lambda x: x.replace(' ', '').lower(), inplace=True)\n",
    "df_gbtc.columns"
   ]
  },
  {
   "cell_type": "code",
   "execution_count": 16,
   "metadata": {},
   "outputs": [
    {
     "data": {
      "text/plain": [
       "[13.07, 12.61, 12.02, 12.66, 12.705]"
      ]
     },
     "execution_count": 16,
     "metadata": {},
     "output_type": "execute_result"
    }
   ],
   "source": [
    "avg_list = []\n",
    "for date in df_gbtc.index:\n",
    "    avg = (df_gbtc.high[date] + df_gbtc.low[date])/2\n",
    "    avg_list.append(avg)\n",
    "avg_list[0:5]"
   ]
  },
  {
   "cell_type": "code",
   "execution_count": 17,
   "metadata": {},
   "outputs": [
    {
     "data": {
      "text/plain": [
       "[11315.0, 11092.15, 11849.1, 11310.2, 11044.5]"
      ]
     },
     "execution_count": 17,
     "metadata": {},
     "output_type": "execute_result"
    }
   ],
   "source": [
    "btc_list = []\n",
    "for date in df_btc.index:\n",
    "    avg = round(((df_btc.high[date] + df_btc.low[date])/2), 2)\n",
    "    btc_list.append(avg)\n",
    "btc_list[0:5]"
   ]
  },
  {
   "cell_type": "code",
   "execution_count": 18,
   "metadata": {},
   "outputs": [
    {
     "name": "stderr",
     "output_type": "stream",
     "text": [
      "C:\\ProgramData\\Anaconda3\\lib\\site-packages\\ipykernel_launcher.py:1: SettingWithCopyWarning: \n",
      "A value is trying to be set on a copy of a slice from a DataFrame.\n",
      "Try using .loc[row_indexer,col_indexer] = value instead\n",
      "\n",
      "See the caveats in the documentation: https://pandas.pydata.org/pandas-docs/stable/user_guide/indexing.html#returning-a-view-versus-a-copy\n",
      "  \"\"\"Entry point for launching an IPython kernel.\n"
     ]
    },
    {
     "data": {
      "text/html": [
       "<div>\n",
       "<style scoped>\n",
       "    .dataframe tbody tr th:only-of-type {\n",
       "        vertical-align: middle;\n",
       "    }\n",
       "\n",
       "    .dataframe tbody tr th {\n",
       "        vertical-align: top;\n",
       "    }\n",
       "\n",
       "    .dataframe thead th {\n",
       "        text-align: right;\n",
       "    }\n",
       "</style>\n",
       "<table border=\"1\" class=\"dataframe\">\n",
       "  <thead>\n",
       "    <tr style=\"text-align: right;\">\n",
       "      <th></th>\n",
       "      <th>date</th>\n",
       "      <th>close/last</th>\n",
       "      <th>volume</th>\n",
       "      <th>open</th>\n",
       "      <th>high</th>\n",
       "      <th>low</th>\n",
       "      <th>btc_avg</th>\n",
       "    </tr>\n",
       "  </thead>\n",
       "  <tbody>\n",
       "    <tr>\n",
       "      <th>0</th>\n",
       "      <td>2020-08-03</td>\n",
       "      <td>11254.1</td>\n",
       "      <td>N/A</td>\n",
       "      <td>11132.5</td>\n",
       "      <td>11407.8</td>\n",
       "      <td>11222.2</td>\n",
       "      <td>11315.00</td>\n",
       "    </tr>\n",
       "    <tr>\n",
       "      <th>1</th>\n",
       "      <td>2020-08-02</td>\n",
       "      <td>11157.1</td>\n",
       "      <td>N/A</td>\n",
       "      <td>11968.2</td>\n",
       "      <td>11202.7</td>\n",
       "      <td>10981.6</td>\n",
       "      <td>11092.15</td>\n",
       "    </tr>\n",
       "    <tr>\n",
       "      <th>2</th>\n",
       "      <td>2020-08-01</td>\n",
       "      <td>11941.5</td>\n",
       "      <td>N/A</td>\n",
       "      <td>11360.7</td>\n",
       "      <td>11943.4</td>\n",
       "      <td>11754.8</td>\n",
       "      <td>11849.10</td>\n",
       "    </tr>\n",
       "    <tr>\n",
       "      <th>3</th>\n",
       "      <td>2020-07-31</td>\n",
       "      <td>11387.8</td>\n",
       "      <td>N/A</td>\n",
       "      <td>10972.3</td>\n",
       "      <td>11394.3</td>\n",
       "      <td>11226.1</td>\n",
       "      <td>11310.20</td>\n",
       "    </tr>\n",
       "    <tr>\n",
       "      <th>4</th>\n",
       "      <td>2020-07-30</td>\n",
       "      <td>10980.8</td>\n",
       "      <td>N/A</td>\n",
       "      <td>10987.6</td>\n",
       "      <td>11124.4</td>\n",
       "      <td>10964.6</td>\n",
       "      <td>11044.50</td>\n",
       "    </tr>\n",
       "  </tbody>\n",
       "</table>\n",
       "</div>"
      ],
      "text/plain": [
       "         date  close/last volume     open     high      low   btc_avg\n",
       "0  2020-08-03     11254.1    N/A  11132.5  11407.8  11222.2  11315.00\n",
       "1  2020-08-02     11157.1    N/A  11968.2  11202.7  10981.6  11092.15\n",
       "2  2020-08-01     11941.5    N/A  11360.7  11943.4  11754.8  11849.10\n",
       "3  2020-07-31     11387.8    N/A  10972.3  11394.3  11226.1  11310.20\n",
       "4  2020-07-30     10980.8    N/A  10987.6  11124.4  10964.6  11044.50"
      ]
     },
     "execution_count": 18,
     "metadata": {},
     "output_type": "execute_result"
    }
   ],
   "source": [
    "df_btc['btc_avg'] = btc_list\n",
    "df_btc.head(5)"
   ]
  },
  {
   "cell_type": "code",
   "execution_count": 19,
   "metadata": {},
   "outputs": [
    {
     "name": "stderr",
     "output_type": "stream",
     "text": [
      "C:\\ProgramData\\Anaconda3\\lib\\site-packages\\ipykernel_launcher.py:1: SettingWithCopyWarning: \n",
      "A value is trying to be set on a copy of a slice from a DataFrame.\n",
      "Try using .loc[row_indexer,col_indexer] = value instead\n",
      "\n",
      "See the caveats in the documentation: https://pandas.pydata.org/pandas-docs/stable/user_guide/indexing.html#returning-a-view-versus-a-copy\n",
      "  \"\"\"Entry point for launching an IPython kernel.\n"
     ]
    },
    {
     "data": {
      "text/html": [
       "<div>\n",
       "<style scoped>\n",
       "    .dataframe tbody tr th:only-of-type {\n",
       "        vertical-align: middle;\n",
       "    }\n",
       "\n",
       "    .dataframe tbody tr th {\n",
       "        vertical-align: top;\n",
       "    }\n",
       "\n",
       "    .dataframe thead th {\n",
       "        text-align: right;\n",
       "    }\n",
       "</style>\n",
       "<table border=\"1\" class=\"dataframe\">\n",
       "  <thead>\n",
       "    <tr style=\"text-align: right;\">\n",
       "      <th></th>\n",
       "      <th>date</th>\n",
       "      <th>close/last</th>\n",
       "      <th>volume</th>\n",
       "      <th>open</th>\n",
       "      <th>high</th>\n",
       "      <th>low</th>\n",
       "      <th>gbtc_avg</th>\n",
       "    </tr>\n",
       "  </thead>\n",
       "  <tbody>\n",
       "    <tr>\n",
       "      <th>0</th>\n",
       "      <td>2020-08-03</td>\n",
       "      <td>13.340</td>\n",
       "      <td>10284780.0</td>\n",
       "      <td>13.01</td>\n",
       "      <td>13.45</td>\n",
       "      <td>12.69</td>\n",
       "      <td>13.070</td>\n",
       "    </tr>\n",
       "    <tr>\n",
       "      <th>1</th>\n",
       "      <td>2020-07-31</td>\n",
       "      <td>12.815</td>\n",
       "      <td>8779614.0</td>\n",
       "      <td>12.32</td>\n",
       "      <td>13.10</td>\n",
       "      <td>12.12</td>\n",
       "      <td>12.610</td>\n",
       "    </tr>\n",
       "    <tr>\n",
       "      <th>2</th>\n",
       "      <td>2020-07-30</td>\n",
       "      <td>12.225</td>\n",
       "      <td>8190939.0</td>\n",
       "      <td>11.95</td>\n",
       "      <td>12.33</td>\n",
       "      <td>11.71</td>\n",
       "      <td>12.020</td>\n",
       "    </tr>\n",
       "    <tr>\n",
       "      <th>3</th>\n",
       "      <td>2020-07-29</td>\n",
       "      <td>12.350</td>\n",
       "      <td>11708060.0</td>\n",
       "      <td>12.91</td>\n",
       "      <td>13.07</td>\n",
       "      <td>12.25</td>\n",
       "      <td>12.660</td>\n",
       "    </tr>\n",
       "    <tr>\n",
       "      <th>4</th>\n",
       "      <td>2020-07-28</td>\n",
       "      <td>12.530</td>\n",
       "      <td>19221550.0</td>\n",
       "      <td>12.46</td>\n",
       "      <td>13.20</td>\n",
       "      <td>12.21</td>\n",
       "      <td>12.705</td>\n",
       "    </tr>\n",
       "  </tbody>\n",
       "</table>\n",
       "</div>"
      ],
      "text/plain": [
       "         date  close/last      volume   open   high    low  gbtc_avg\n",
       "0  2020-08-03      13.340  10284780.0  13.01  13.45  12.69    13.070\n",
       "1  2020-07-31      12.815   8779614.0  12.32  13.10  12.12    12.610\n",
       "2  2020-07-30      12.225   8190939.0  11.95  12.33  11.71    12.020\n",
       "3  2020-07-29      12.350  11708060.0  12.91  13.07  12.25    12.660\n",
       "4  2020-07-28      12.530  19221550.0  12.46  13.20  12.21    12.705"
      ]
     },
     "execution_count": 19,
     "metadata": {},
     "output_type": "execute_result"
    }
   ],
   "source": [
    "df_gbtc['gbtc_avg'] = avg_list\n",
    "df_gbtc.head(5)"
   ]
  },
  {
   "cell_type": "code",
   "execution_count": 20,
   "metadata": {},
   "outputs": [
    {
     "data": {
      "text/plain": [
       "Index(['date', 'close/last', 'volume', 'open', 'high', 'low', 'gbtc_avg'], dtype='object')"
      ]
     },
     "execution_count": 20,
     "metadata": {},
     "output_type": "execute_result"
    }
   ],
   "source": [
    "df_gbtc.columns"
   ]
  },
  {
   "cell_type": "code",
   "execution_count": 21,
   "metadata": {
    "scrolled": true
   },
   "outputs": [
    {
     "data": {
      "text/html": [
       "<div>\n",
       "<style scoped>\n",
       "    .dataframe tbody tr th:only-of-type {\n",
       "        vertical-align: middle;\n",
       "    }\n",
       "\n",
       "    .dataframe tbody tr th {\n",
       "        vertical-align: top;\n",
       "    }\n",
       "\n",
       "    .dataframe thead th {\n",
       "        text-align: right;\n",
       "    }\n",
       "</style>\n",
       "<table border=\"1\" class=\"dataframe\">\n",
       "  <thead>\n",
       "    <tr style=\"text-align: right;\">\n",
       "      <th></th>\n",
       "      <th>date</th>\n",
       "      <th>btc_avg</th>\n",
       "    </tr>\n",
       "  </thead>\n",
       "  <tbody>\n",
       "    <tr>\n",
       "      <th>0</th>\n",
       "      <td>2020-08-03</td>\n",
       "      <td>11315.00</td>\n",
       "    </tr>\n",
       "    <tr>\n",
       "      <th>1</th>\n",
       "      <td>2020-08-02</td>\n",
       "      <td>11092.15</td>\n",
       "    </tr>\n",
       "    <tr>\n",
       "      <th>2</th>\n",
       "      <td>2020-08-01</td>\n",
       "      <td>11849.10</td>\n",
       "    </tr>\n",
       "    <tr>\n",
       "      <th>3</th>\n",
       "      <td>2020-07-31</td>\n",
       "      <td>11310.20</td>\n",
       "    </tr>\n",
       "    <tr>\n",
       "      <th>4</th>\n",
       "      <td>2020-07-30</td>\n",
       "      <td>11044.50</td>\n",
       "    </tr>\n",
       "    <tr>\n",
       "      <th>...</th>\n",
       "      <td>...</td>\n",
       "      <td>...</td>\n",
       "    </tr>\n",
       "    <tr>\n",
       "      <th>432</th>\n",
       "      <td>2019-05-07</td>\n",
       "      <td>5845.20</td>\n",
       "    </tr>\n",
       "    <tr>\n",
       "      <th>433</th>\n",
       "      <td>2019-05-06</td>\n",
       "      <td>5844.85</td>\n",
       "    </tr>\n",
       "    <tr>\n",
       "      <th>434</th>\n",
       "      <td>2019-05-05</td>\n",
       "      <td>5731.30</td>\n",
       "    </tr>\n",
       "    <tr>\n",
       "      <th>435</th>\n",
       "      <td>2019-05-04</td>\n",
       "      <td>5570.25</td>\n",
       "    </tr>\n",
       "    <tr>\n",
       "      <th>436</th>\n",
       "      <td>2019-05-03</td>\n",
       "      <td>5578.25</td>\n",
       "    </tr>\n",
       "  </tbody>\n",
       "</table>\n",
       "<p>437 rows × 2 columns</p>\n",
       "</div>"
      ],
      "text/plain": [
       "           date   btc_avg\n",
       "0    2020-08-03  11315.00\n",
       "1    2020-08-02  11092.15\n",
       "2    2020-08-01  11849.10\n",
       "3    2020-07-31  11310.20\n",
       "4    2020-07-30  11044.50\n",
       "..          ...       ...\n",
       "432  2019-05-07   5845.20\n",
       "433  2019-05-06   5844.85\n",
       "434  2019-05-05   5731.30\n",
       "435  2019-05-04   5570.25\n",
       "436  2019-05-03   5578.25\n",
       "\n",
       "[437 rows x 2 columns]"
      ]
     },
     "execution_count": 21,
     "metadata": {},
     "output_type": "execute_result"
    }
   ],
   "source": [
    "df_premium = df_btc.drop(columns=['close/last', 'volume', 'open', 'high', 'low'], axis=1, inplace=False)\n",
    "df_premium"
   ]
  },
  {
   "cell_type": "code",
   "execution_count": 22,
   "metadata": {},
   "outputs": [
    {
     "data": {
      "text/html": [
       "<div>\n",
       "<style scoped>\n",
       "    .dataframe tbody tr th:only-of-type {\n",
       "        vertical-align: middle;\n",
       "    }\n",
       "\n",
       "    .dataframe tbody tr th {\n",
       "        vertical-align: top;\n",
       "    }\n",
       "\n",
       "    .dataframe thead th {\n",
       "        text-align: right;\n",
       "    }\n",
       "</style>\n",
       "<table border=\"1\" class=\"dataframe\">\n",
       "  <thead>\n",
       "    <tr style=\"text-align: right;\">\n",
       "      <th></th>\n",
       "      <th>btc_avg</th>\n",
       "    </tr>\n",
       "    <tr>\n",
       "      <th>date</th>\n",
       "      <th></th>\n",
       "    </tr>\n",
       "  </thead>\n",
       "  <tbody>\n",
       "    <tr>\n",
       "      <th>2020-08-03</th>\n",
       "      <td>11315.0</td>\n",
       "    </tr>\n",
       "  </tbody>\n",
       "</table>\n",
       "</div>"
      ],
      "text/plain": [
       "            btc_avg\n",
       "date               \n",
       "2020-08-03  11315.0"
      ]
     },
     "execution_count": 22,
     "metadata": {},
     "output_type": "execute_result"
    }
   ],
   "source": [
    "df_premium.set_index(\"date\", inplace=True)\n",
    "df_premium.head(1)"
   ]
  },
  {
   "cell_type": "code",
   "execution_count": 23,
   "metadata": {},
   "outputs": [
    {
     "data": {
      "text/html": [
       "<div>\n",
       "<style scoped>\n",
       "    .dataframe tbody tr th:only-of-type {\n",
       "        vertical-align: middle;\n",
       "    }\n",
       "\n",
       "    .dataframe tbody tr th {\n",
       "        vertical-align: top;\n",
       "    }\n",
       "\n",
       "    .dataframe thead th {\n",
       "        text-align: right;\n",
       "    }\n",
       "</style>\n",
       "<table border=\"1\" class=\"dataframe\">\n",
       "  <thead>\n",
       "    <tr style=\"text-align: right;\">\n",
       "      <th></th>\n",
       "      <th>close/last</th>\n",
       "      <th>volume</th>\n",
       "      <th>open</th>\n",
       "      <th>high</th>\n",
       "      <th>low</th>\n",
       "      <th>gbtc_avg</th>\n",
       "    </tr>\n",
       "    <tr>\n",
       "      <th>date</th>\n",
       "      <th></th>\n",
       "      <th></th>\n",
       "      <th></th>\n",
       "      <th></th>\n",
       "      <th></th>\n",
       "      <th></th>\n",
       "    </tr>\n",
       "  </thead>\n",
       "  <tbody>\n",
       "    <tr>\n",
       "      <th>2020-08-03</th>\n",
       "      <td>13.34</td>\n",
       "      <td>10284780.0</td>\n",
       "      <td>13.01</td>\n",
       "      <td>13.45</td>\n",
       "      <td>12.69</td>\n",
       "      <td>13.07</td>\n",
       "    </tr>\n",
       "  </tbody>\n",
       "</table>\n",
       "</div>"
      ],
      "text/plain": [
       "            close/last      volume   open   high    low  gbtc_avg\n",
       "date                                                             \n",
       "2020-08-03       13.34  10284780.0  13.01  13.45  12.69     13.07"
      ]
     },
     "execution_count": 23,
     "metadata": {},
     "output_type": "execute_result"
    }
   ],
   "source": [
    "df_gbtc.set_index(\"date\", inplace=True)\n",
    "df_gbtc.head(1)"
   ]
  },
  {
   "cell_type": "code",
   "execution_count": 24,
   "metadata": {
    "scrolled": true
   },
   "outputs": [
    {
     "data": {
      "text/html": [
       "<div>\n",
       "<style scoped>\n",
       "    .dataframe tbody tr th:only-of-type {\n",
       "        vertical-align: middle;\n",
       "    }\n",
       "\n",
       "    .dataframe tbody tr th {\n",
       "        vertical-align: top;\n",
       "    }\n",
       "\n",
       "    .dataframe thead th {\n",
       "        text-align: right;\n",
       "    }\n",
       "</style>\n",
       "<table border=\"1\" class=\"dataframe\">\n",
       "  <thead>\n",
       "    <tr style=\"text-align: right;\">\n",
       "      <th></th>\n",
       "      <th>date</th>\n",
       "      <th>btc_avg</th>\n",
       "      <th>gbtc_avg</th>\n",
       "    </tr>\n",
       "  </thead>\n",
       "  <tbody>\n",
       "    <tr>\n",
       "      <th>0</th>\n",
       "      <td>2020-08-03</td>\n",
       "      <td>11315.00</td>\n",
       "      <td>13.07</td>\n",
       "    </tr>\n",
       "    <tr>\n",
       "      <th>1</th>\n",
       "      <td>2020-08-02</td>\n",
       "      <td>11092.15</td>\n",
       "      <td>NaN</td>\n",
       "    </tr>\n",
       "    <tr>\n",
       "      <th>2</th>\n",
       "      <td>2020-08-01</td>\n",
       "      <td>11849.10</td>\n",
       "      <td>NaN</td>\n",
       "    </tr>\n",
       "    <tr>\n",
       "      <th>3</th>\n",
       "      <td>2020-07-31</td>\n",
       "      <td>11310.20</td>\n",
       "      <td>12.61</td>\n",
       "    </tr>\n",
       "    <tr>\n",
       "      <th>4</th>\n",
       "      <td>2020-07-30</td>\n",
       "      <td>11044.50</td>\n",
       "      <td>12.02</td>\n",
       "    </tr>\n",
       "  </tbody>\n",
       "</table>\n",
       "</div>"
      ],
      "text/plain": [
       "         date   btc_avg  gbtc_avg\n",
       "0  2020-08-03  11315.00     13.07\n",
       "1  2020-08-02  11092.15       NaN\n",
       "2  2020-08-01  11849.10       NaN\n",
       "3  2020-07-31  11310.20     12.61\n",
       "4  2020-07-30  11044.50     12.02"
      ]
     },
     "execution_count": 24,
     "metadata": {},
     "output_type": "execute_result"
    }
   ],
   "source": [
    "df_premium['gbtc_avg'] = df_gbtc['gbtc_avg']\n",
    "df_premium = df_premium.reset_index()\n",
    "df_premium.head(5)"
   ]
  },
  {
   "cell_type": "markdown",
   "metadata": {},
   "source": [
    "gbtc_ratio = .000958btc per share     \n",
    "\n",
    "which is 95,800 sats\n",
    "\n",
    "\n",
    "reversed that is 1044 shares per coin"
   ]
  },
  {
   "cell_type": "code",
   "execution_count": 25,
   "metadata": {},
   "outputs": [],
   "source": [
    "btc_ratio = .000958"
   ]
  },
  {
   "cell_type": "code",
   "execution_count": 26,
   "metadata": {},
   "outputs": [
    {
     "data": {
      "text/html": [
       "<div>\n",
       "<style scoped>\n",
       "    .dataframe tbody tr th:only-of-type {\n",
       "        vertical-align: middle;\n",
       "    }\n",
       "\n",
       "    .dataframe tbody tr th {\n",
       "        vertical-align: top;\n",
       "    }\n",
       "\n",
       "    .dataframe thead th {\n",
       "        text-align: right;\n",
       "    }\n",
       "</style>\n",
       "<table border=\"1\" class=\"dataframe\">\n",
       "  <thead>\n",
       "    <tr style=\"text-align: right;\">\n",
       "      <th></th>\n",
       "      <th>date</th>\n",
       "      <th>btc_avg</th>\n",
       "      <th>gbtc_avg</th>\n",
       "    </tr>\n",
       "  </thead>\n",
       "  <tbody>\n",
       "    <tr>\n",
       "      <th>436</th>\n",
       "      <td>2019-05-03</td>\n",
       "      <td>5578.25</td>\n",
       "      <td>7.44</td>\n",
       "    </tr>\n",
       "  </tbody>\n",
       "</table>\n",
       "</div>"
      ],
      "text/plain": [
       "           date  btc_avg  gbtc_avg\n",
       "436  2019-05-03  5578.25      7.44"
      ]
     },
     "execution_count": 26,
     "metadata": {},
     "output_type": "execute_result"
    }
   ],
   "source": [
    "df_premium.tail(1)"
   ]
  },
  {
   "cell_type": "code",
   "execution_count": 27,
   "metadata": {},
   "outputs": [
    {
     "data": {
      "text/plain": [
       "0.17063733741392506"
      ]
     },
     "execution_count": 27,
     "metadata": {},
     "output_type": "execute_result"
    }
   ],
   "source": [
    "(13.07 - (11315 * .000958)) / 13.07"
   ]
  },
  {
   "cell_type": "code",
   "execution_count": 28,
   "metadata": {},
   "outputs": [
    {
     "data": {
      "text/plain": [
       "0.17063733741392506"
      ]
     },
     "execution_count": 28,
     "metadata": {},
     "output_type": "execute_result"
    }
   ],
   "source": [
    "(df_premium.gbtc_avg[0] - (df_premium.btc_avg[0] * btc_ratio))/df_premium.gbtc_avg[0] #premium as gbtc percentage"
   ]
  },
  {
   "cell_type": "code",
   "execution_count": 29,
   "metadata": {},
   "outputs": [
    {
     "data": {
      "text/plain": [
       "'115.51'"
      ]
     },
     "execution_count": 29,
     "metadata": {},
     "output_type": "execute_result"
    }
   ],
   "source": [
    "format(1/11315*13.07*100000, '.2f') "
   ]
  },
  {
   "cell_type": "code",
   "execution_count": 30,
   "metadata": {},
   "outputs": [
    {
     "data": {
      "text/plain": [
       "'115.51'"
      ]
     },
     "execution_count": 30,
     "metadata": {},
     "output_type": "execute_result"
    }
   ],
   "source": [
    "format(1/df_premium.btc_avg[0] * df_premium.gbtc_avg[0] * 100000, '.2f') # price in 1,000 sats"
   ]
  },
  {
   "cell_type": "code",
   "execution_count": 31,
   "metadata": {
    "scrolled": false
   },
   "outputs": [
    {
     "data": {
      "text/html": [
       "<div>\n",
       "<style scoped>\n",
       "    .dataframe tbody tr th:only-of-type {\n",
       "        vertical-align: middle;\n",
       "    }\n",
       "\n",
       "    .dataframe tbody tr th {\n",
       "        vertical-align: top;\n",
       "    }\n",
       "\n",
       "    .dataframe thead th {\n",
       "        text-align: right;\n",
       "    }\n",
       "</style>\n",
       "<table border=\"1\" class=\"dataframe\">\n",
       "  <thead>\n",
       "    <tr style=\"text-align: right;\">\n",
       "      <th></th>\n",
       "      <th>date</th>\n",
       "      <th>btc_avg</th>\n",
       "      <th>gbtc_avg</th>\n",
       "      <th>pct_premium</th>\n",
       "      <th>sats_price</th>\n",
       "    </tr>\n",
       "  </thead>\n",
       "  <tbody>\n",
       "    <tr>\n",
       "      <th>0</th>\n",
       "      <td>2020-08-03</td>\n",
       "      <td>11315.00</td>\n",
       "      <td>13.07</td>\n",
       "      <td>0.170637</td>\n",
       "      <td>115.51</td>\n",
       "    </tr>\n",
       "    <tr>\n",
       "      <th>1</th>\n",
       "      <td>2020-08-02</td>\n",
       "      <td>11092.15</td>\n",
       "      <td>NaN</td>\n",
       "      <td>NaN</td>\n",
       "      <td>NaN</td>\n",
       "    </tr>\n",
       "    <tr>\n",
       "      <th>2</th>\n",
       "      <td>2020-08-01</td>\n",
       "      <td>11849.10</td>\n",
       "      <td>NaN</td>\n",
       "      <td>NaN</td>\n",
       "      <td>NaN</td>\n",
       "    </tr>\n",
       "    <tr>\n",
       "      <th>3</th>\n",
       "      <td>2020-07-31</td>\n",
       "      <td>11310.20</td>\n",
       "      <td>12.61</td>\n",
       "      <td>0.140748</td>\n",
       "      <td>111.49</td>\n",
       "    </tr>\n",
       "    <tr>\n",
       "      <th>4</th>\n",
       "      <td>2020-07-30</td>\n",
       "      <td>11044.50</td>\n",
       "      <td>12.02</td>\n",
       "      <td>0.119748</td>\n",
       "      <td>108.83</td>\n",
       "    </tr>\n",
       "  </tbody>\n",
       "</table>\n",
       "</div>"
      ],
      "text/plain": [
       "         date   btc_avg  gbtc_avg  pct_premium  sats_price\n",
       "0  2020-08-03  11315.00     13.07     0.170637      115.51\n",
       "1  2020-08-02  11092.15       NaN          NaN         NaN\n",
       "2  2020-08-01  11849.10       NaN          NaN         NaN\n",
       "3  2020-07-31  11310.20     12.61     0.140748      111.49\n",
       "4  2020-07-30  11044.50     12.02     0.119748      108.83"
      ]
     },
     "execution_count": 31,
     "metadata": {},
     "output_type": "execute_result"
    }
   ],
   "source": [
    "pct_price_list = []\n",
    "sats_price_list = []\n",
    "for date in df_premium.index:\n",
    "    if df_premium.gbtc_avg[date]:\n",
    "        pct_price = (df_premium.gbtc_avg[date] - (df_premium.btc_avg[date] * btc_ratio))/df_premium.gbtc_avg[date]\n",
    "        pct_price_list.append(pct_price)\n",
    "        \n",
    "        sats_price = float(format(1/df_premium.btc_avg[date] * df_premium.gbtc_avg[date] * 100000, '.2f'))\n",
    "        sats_price_list.append(sats_price)\n",
    "\n",
    "df_premium['pct_premium'] = pct_price_list\n",
    "df_premium['sats_price'] = sats_price_list\n",
    "df_premium.head(5)"
   ]
  },
  {
   "cell_type": "code",
   "execution_count": 32,
   "metadata": {},
   "outputs": [
    {
     "data": {
      "text/plain": [
       "0.32547888372093026"
      ]
     },
     "execution_count": 32,
     "metadata": {},
     "output_type": "execute_result"
    }
   ],
   "source": [
    "df_premium.pct_premium.max()"
   ]
  },
  {
   "cell_type": "code",
   "execution_count": 33,
   "metadata": {},
   "outputs": [
    {
     "data": {
      "text/plain": [
       "0.1914128189379113"
      ]
     },
     "execution_count": 33,
     "metadata": {},
     "output_type": "execute_result"
    }
   ],
   "source": [
    "df_premium.pct_premium.mean()"
   ]
  },
  {
   "cell_type": "code",
   "execution_count": 34,
   "metadata": {},
   "outputs": [
    {
     "data": {
      "text/plain": [
       "numpy.float64"
      ]
     },
     "execution_count": 34,
     "metadata": {},
     "output_type": "execute_result"
    }
   ],
   "source": [
    "type(df_premium.sats_price[1])"
   ]
  },
  {
   "cell_type": "code",
   "execution_count": 35,
   "metadata": {},
   "outputs": [
    {
     "data": {
      "image/png": "[encoded data removed]",
      "text/plain": [
       "<Figure size 1080x864 with 1 Axes>"
      ]
     },
     "metadata": {
      "needs_background": "light"
     },
     "output_type": "display_data"
    }
   ],
   "source": [
    "plt.subplots(figsize=(15, 12))\n",
    "plt.grid(True)\n",
    "plt.plot(df_premium.date[:90], df_premium.sats_price[:90].fillna(method='ffill'), color='green')\n",
    "# plt.plot(df_chicago.year, df_chicago.avg_temp, color='orange')\n",
    "plt.title('Daily Grayscale Price in Bitcoin', fontsize=18)\n",
    "plt.ylabel('Price in Thousands of Sats', fontsize=16)\n",
    "plt.xlabel('Date', fontsize=16)\n",
    "plt.savefig('image_1.png');\n",
    "# plt.xticks(year_range, year_labels)\n",
    "# plt.xlim(int(year_labels[0]), int(year_labels[-1]))\n",
    "# plt.legend(['Average', 'Rolling'], loc=2);"
   ]
  },
  {
   "cell_type": "code",
   "execution_count": 38,
   "metadata": {},
   "outputs": [
    {
     "data": {
      "image/png": "[encoded data removed]",
      "text/plain": [
       "<Figure size 1080x864 with 1 Axes>"
      ]
     },
     "metadata": {
      "needs_background": "light"
     },
     "output_type": "display_data"
    }
   ],
   "source": [
    "plt.subplots(figsize=(15, 12))\n",
    "plt.grid(True)\n",
    "plt.plot(df_premium.date, df_premium.gbtc_avg.fillna(method='ffill'), color='green')\n",
    "# plt.plot(df_chicago.year, df_chicago.avg_temp, color='orange')\n",
    "plt.title('Daily Grayscale Price in Bitcoin', fontsize=18)\n",
    "plt.ylabel('Price in Thousands of Sats', fontsize=16)\n",
    "plt.xlabel('Date', fontsize=16)\n",
    "plt.savefig('image_1.png');"
   ]
  },
  {
   "cell_type": "code",
   "execution_count": 39,
   "metadata": {},
   "outputs": [
    {
     "data": {
      "image/png": "[encoded data removed]",
      "text/plain": [
       "<Figure size 1080x864 with 1 Axes>"
      ]
     },
     "metadata": {
      "needs_background": "light"
     },
     "output_type": "display_data"
    }
   ],
   "source": [
    "plt.subplots(figsize=(15, 12))\n",
    "plt.grid(True)\n",
    "plt.plot(df_premium.date, df_premium.btc_avg.fillna(method='ffill'), color='green')\n",
    "# plt.plot(df_chicago.year, df_chicago.avg_temp, color='orange')\n",
    "plt.title('Daily Grayscale Price in Bitcoin', fontsize=18)\n",
    "plt.ylabel('Price in Thousands of Sats', fontsize=16)\n",
    "plt.xlabel('Date', fontsize=16)\n",
    "plt.savefig('image_1.png');"
   ]
  },
  {
   "cell_type": "code",
   "execution_count": null,
   "metadata": {},
   "outputs": [],
   "source": []
  }
 ],
 "metadata": {
  "kernelspec": {
   "display_name": "Python 3",
   "language": "python",
   "name": "python3"
  },
  "language_info": {
   "codemirror_mode": {
    "name": "ipython",
    "version": 3
   },
   "file_extension": ".py",
   "mimetype": "text/x-python",
   "name": "python",
   "nbconvert_exporter": "python",
   "pygments_lexer": "ipython3",
   "version": "3.7.6"
  }
 },
 "nbformat": 4,
 "nbformat_minor": 4
}
