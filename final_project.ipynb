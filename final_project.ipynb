{
 "cells": [
  {
   "cell_type": "markdown",
   "metadata": {},
   "source": [
    "<h1>Plan B</h1>"
   ]
  },
  {
   "cell_type": "code",
   "execution_count": 1,
   "metadata": {},
   "outputs": [],
   "source": [
    "import requests\n",
    "import pandas as pd\n",
    "import numpy as np\n",
    "import matplotlib.pyplot as plt\n",
    "from datetime import datetime, timedelta"
   ]
  },
  {
   "cell_type": "markdown",
   "metadata": {},
   "source": [
    "<strong>Choose a Stock By Ticker Name</strong>"
   ]
  },
  {
   "cell_type": "code",
   "execution_count": 2,
   "metadata": {},
   "outputs": [],
   "source": [
    "stock = 'tsla'"
   ]
  },
  {
   "cell_type": "markdown",
   "metadata": {},
   "source": [
    "<strong>Choose a Start Date (earliest date: 05-03-2019)</strong>\n",
    "(format mm-dd-yyyy)"
   ]
  },
  {
   "cell_type": "code",
   "execution_count": 3,
   "metadata": {},
   "outputs": [],
   "source": [
    "start_date = '10-03-2019'"
   ]
  },
  {
   "cell_type": "markdown",
   "metadata": {},
   "source": [
    "<strong>Choose an End Date (latest date: 08-03-2019)</strong>\n",
    "(format mm-dd-yyyy)"
   ]
  },
  {
   "cell_type": "code",
   "execution_count": 4,
   "metadata": {},
   "outputs": [],
   "source": [
    "end_date = '08-03-2020'"
   ]
  },
  {
   "cell_type": "markdown",
   "metadata": {},
   "source": [
    "<hr>"
   ]
  },
  {
   "cell_type": "code",
   "execution_count": 5,
   "metadata": {},
   "outputs": [
    {
     "data": {
      "text/plain": [
       "2518"
      ]
     },
     "execution_count": 5,
     "metadata": {},
     "output_type": "execute_result"
    }
   ],
   "source": [
    "df_stock = pd.read_csv(f'{stock}.csv')\n",
    "len(df_stock)"
   ]
  },
  {
   "cell_type": "code",
   "execution_count": 6,
   "metadata": {},
   "outputs": [
    {
     "data": {
      "text/plain": [
       "448"
      ]
     },
     "execution_count": 6,
     "metadata": {},
     "output_type": "execute_result"
    }
   ],
   "source": [
    "df_btc = pd.read_csv('btc.csv')\n",
    "len(df_btc)"
   ]
  },
  {
   "cell_type": "code",
   "execution_count": 7,
   "metadata": {},
   "outputs": [
    {
     "data": {
      "text/plain": [
       "Index(['date', 'close/last', 'volume', 'open', 'high', 'low'], dtype='object')"
      ]
     },
     "execution_count": 7,
     "metadata": {},
     "output_type": "execute_result"
    }
   ],
   "source": [
    "df_btc.rename(columns=lambda x: x.replace(' ', '').lower(), inplace=True)\n",
    "df_btc.columns"
   ]
  },
  {
   "cell_type": "code",
   "execution_count": 8,
   "metadata": {},
   "outputs": [
    {
     "name": "stderr",
     "output_type": "stream",
     "text": [
      "C:\\ProgramData\\Anaconda3\\lib\\site-packages\\ipykernel_launcher.py:2: SettingWithCopyWarning: \n",
      "A value is trying to be set on a copy of a slice from a DataFrame\n",
      "\n",
      "See the caveats in the documentation: https://pandas.pydata.org/pandas-docs/stable/user_guide/indexing.html#returning-a-view-versus-a-copy\n",
      "  \n"
     ]
    }
   ],
   "source": [
    "for date in range(len(df_stock.Date)):\n",
    "    df_stock.Date[date] = datetime.strptime(df_stock.Date[date], '%m/%d/%Y').date()"
   ]
  },
  {
   "cell_type": "code",
   "execution_count": 9,
   "metadata": {},
   "outputs": [
    {
     "data": {
      "text/plain": [
       "datetime.date(2019, 10, 3)"
      ]
     },
     "execution_count": 9,
     "metadata": {},
     "output_type": "execute_result"
    }
   ],
   "source": [
    "start_date = datetime.strptime(start_date, '%m-%d-%Y').date()\n",
    "end_date = datetime.strptime(end_date, '%m-%d-%Y').date()\n",
    "start_date"
   ]
  },
  {
   "cell_type": "code",
   "execution_count": 10,
   "metadata": {
    "scrolled": true
   },
   "outputs": [
    {
     "name": "stderr",
     "output_type": "stream",
     "text": [
      "C:\\ProgramData\\Anaconda3\\lib\\site-packages\\ipykernel_launcher.py:2: SettingWithCopyWarning: \n",
      "A value is trying to be set on a copy of a slice from a DataFrame\n",
      "\n",
      "See the caveats in the documentation: https://pandas.pydata.org/pandas-docs/stable/user_guide/indexing.html#returning-a-view-versus-a-copy\n",
      "  \n"
     ]
    }
   ],
   "source": [
    "for date in range(len(df_btc.date)):\n",
    "    df_btc.date[date] = datetime.strptime(df_btc.date[date], '%m/%d/%Y').date()"
   ]
  },
  {
   "cell_type": "code",
   "execution_count": 11,
   "metadata": {
    "scrolled": true
   },
   "outputs": [
    {
     "data": {
      "text/html": [
       "<div>\n",
       "<style scoped>\n",
       "    .dataframe tbody tr th:only-of-type {\n",
       "        vertical-align: middle;\n",
       "    }\n",
       "\n",
       "    .dataframe tbody tr th {\n",
       "        vertical-align: top;\n",
       "    }\n",
       "\n",
       "    .dataframe thead th {\n",
       "        text-align: right;\n",
       "    }\n",
       "</style>\n",
       "<table border=\"1\" class=\"dataframe\">\n",
       "  <thead>\n",
       "    <tr style=\"text-align: right;\">\n",
       "      <th></th>\n",
       "      <th>date</th>\n",
       "      <th>close/last</th>\n",
       "      <th>volume</th>\n",
       "      <th>open</th>\n",
       "      <th>high</th>\n",
       "      <th>low</th>\n",
       "    </tr>\n",
       "  </thead>\n",
       "  <tbody>\n",
       "    <tr>\n",
       "      <th>1</th>\n",
       "      <td>2020-08-02</td>\n",
       "      <td>11157.1</td>\n",
       "      <td>N/A</td>\n",
       "      <td>11968.2</td>\n",
       "      <td>11202.7</td>\n",
       "      <td>10981.6</td>\n",
       "    </tr>\n",
       "    <tr>\n",
       "      <th>2</th>\n",
       "      <td>2020-08-01</td>\n",
       "      <td>11941.5</td>\n",
       "      <td>N/A</td>\n",
       "      <td>11360.7</td>\n",
       "      <td>11943.4</td>\n",
       "      <td>11754.8</td>\n",
       "    </tr>\n",
       "    <tr>\n",
       "      <th>3</th>\n",
       "      <td>2020-07-31</td>\n",
       "      <td>11387.8</td>\n",
       "      <td>N/A</td>\n",
       "      <td>10972.3</td>\n",
       "      <td>11394.3</td>\n",
       "      <td>11226.1</td>\n",
       "    </tr>\n",
       "    <tr>\n",
       "      <th>4</th>\n",
       "      <td>2020-07-30</td>\n",
       "      <td>10980.8</td>\n",
       "      <td>N/A</td>\n",
       "      <td>10987.6</td>\n",
       "      <td>11124.4</td>\n",
       "      <td>10964.6</td>\n",
       "    </tr>\n",
       "    <tr>\n",
       "      <th>5</th>\n",
       "      <td>2020-07-29</td>\n",
       "      <td>10999.0</td>\n",
       "      <td>N/A</td>\n",
       "      <td>10970.9</td>\n",
       "      <td>11114.4</td>\n",
       "      <td>10959.9</td>\n",
       "    </tr>\n",
       "    <tr>\n",
       "      <th>...</th>\n",
       "      <td>...</td>\n",
       "      <td>...</td>\n",
       "      <td>...</td>\n",
       "      <td>...</td>\n",
       "      <td>...</td>\n",
       "      <td>...</td>\n",
       "    </tr>\n",
       "    <tr>\n",
       "      <th>300</th>\n",
       "      <td>2019-10-08</td>\n",
       "      <td>8166.4</td>\n",
       "      <td>N/A</td>\n",
       "      <td>8280.6</td>\n",
       "      <td>8205.6</td>\n",
       "      <td>8159.6</td>\n",
       "    </tr>\n",
       "    <tr>\n",
       "      <th>301</th>\n",
       "      <td>2019-10-07</td>\n",
       "      <td>8282.3</td>\n",
       "      <td>N/A</td>\n",
       "      <td>7834.5</td>\n",
       "      <td>8287.6</td>\n",
       "      <td>8198.5</td>\n",
       "    </tr>\n",
       "    <tr>\n",
       "      <th>302</th>\n",
       "      <td>2019-10-06</td>\n",
       "      <td>7965.4</td>\n",
       "      <td>N/A</td>\n",
       "      <td>8140.4</td>\n",
       "      <td>8145.5</td>\n",
       "      <td>7944.2</td>\n",
       "    </tr>\n",
       "    <tr>\n",
       "      <th>303</th>\n",
       "      <td>2019-10-05</td>\n",
       "      <td>8064.4</td>\n",
       "      <td>N/A</td>\n",
       "      <td>8141.7</td>\n",
       "      <td>8145.5</td>\n",
       "      <td>8031.4</td>\n",
       "    </tr>\n",
       "    <tr>\n",
       "      <th>304</th>\n",
       "      <td>2019-10-04</td>\n",
       "      <td>8121.6</td>\n",
       "      <td>N/A</td>\n",
       "      <td>8129.6</td>\n",
       "      <td>8160.3</td>\n",
       "      <td>8116.6</td>\n",
       "    </tr>\n",
       "  </tbody>\n",
       "</table>\n",
       "<p>304 rows × 6 columns</p>\n",
       "</div>"
      ],
      "text/plain": [
       "           date  close/last volume     open     high      low\n",
       "1    2020-08-02     11157.1    N/A  11968.2  11202.7  10981.6\n",
       "2    2020-08-01     11941.5    N/A  11360.7  11943.4  11754.8\n",
       "3    2020-07-31     11387.8    N/A  10972.3  11394.3  11226.1\n",
       "4    2020-07-30     10980.8    N/A  10987.6  11124.4  10964.6\n",
       "5    2020-07-29     10999.0    N/A  10970.9  11114.4  10959.9\n",
       "..          ...         ...    ...      ...      ...      ...\n",
       "300  2019-10-08      8166.4    N/A   8280.6   8205.6   8159.6\n",
       "301  2019-10-07      8282.3    N/A   7834.5   8287.6   8198.5\n",
       "302  2019-10-06      7965.4    N/A   8140.4   8145.5   7944.2\n",
       "303  2019-10-05      8064.4    N/A   8141.7   8145.5   8031.4\n",
       "304  2019-10-04      8121.6    N/A   8129.6   8160.3   8116.6\n",
       "\n",
       "[304 rows x 6 columns]"
      ]
     },
     "execution_count": 11,
     "metadata": {},
     "output_type": "execute_result"
    }
   ],
   "source": [
    "df_btc = df_btc.query('date > @start_date' )\n",
    "df_btc = df_btc.query('date < @end_date' )\n",
    "df_btc"
   ]
  },
  {
   "cell_type": "code",
   "execution_count": 12,
   "metadata": {},
   "outputs": [
    {
     "data": {
      "text/html": [
       "<div>\n",
       "<style scoped>\n",
       "    .dataframe tbody tr th:only-of-type {\n",
       "        vertical-align: middle;\n",
       "    }\n",
       "\n",
       "    .dataframe tbody tr th {\n",
       "        vertical-align: top;\n",
       "    }\n",
       "\n",
       "    .dataframe thead th {\n",
       "        text-align: right;\n",
       "    }\n",
       "</style>\n",
       "<table border=\"1\" class=\"dataframe\">\n",
       "  <thead>\n",
       "    <tr style=\"text-align: right;\">\n",
       "      <th></th>\n",
       "      <th>Date</th>\n",
       "      <th>Close/Last</th>\n",
       "      <th>Volume</th>\n",
       "      <th>Open</th>\n",
       "      <th>High</th>\n",
       "      <th>Low</th>\n",
       "    </tr>\n",
       "  </thead>\n",
       "  <tbody>\n",
       "    <tr>\n",
       "      <th>0</th>\n",
       "      <td>2020-08-05</td>\n",
       "      <td>$1485.02</td>\n",
       "      <td>4978015</td>\n",
       "      <td>$1492.99</td>\n",
       "      <td>$1499.8384</td>\n",
       "      <td>$1468.31</td>\n",
       "    </tr>\n",
       "    <tr>\n",
       "      <th>1</th>\n",
       "      <td>2020-08-04</td>\n",
       "      <td>$1487</td>\n",
       "      <td>8414990</td>\n",
       "      <td>$1495.01</td>\n",
       "      <td>$1527.41</td>\n",
       "      <td>$1462</td>\n",
       "    </tr>\n",
       "    <tr>\n",
       "      <th>2</th>\n",
       "      <td>2020-08-03</td>\n",
       "      <td>$1485</td>\n",
       "      <td>8809346</td>\n",
       "      <td>$1449.2</td>\n",
       "      <td>$1509.8101</td>\n",
       "      <td>$1444.3844</td>\n",
       "    </tr>\n",
       "    <tr>\n",
       "      <th>3</th>\n",
       "      <td>2020-07-31</td>\n",
       "      <td>$1430.76</td>\n",
       "      <td>12246960</td>\n",
       "      <td>$1515</td>\n",
       "      <td>$1517.05</td>\n",
       "      <td>$1420.98</td>\n",
       "    </tr>\n",
       "    <tr>\n",
       "      <th>4</th>\n",
       "      <td>2020-07-30</td>\n",
       "      <td>$1487.49</td>\n",
       "      <td>7621039</td>\n",
       "      <td>$1488</td>\n",
       "      <td>$1513.24</td>\n",
       "      <td>$1471</td>\n",
       "    </tr>\n",
       "  </tbody>\n",
       "</table>\n",
       "</div>"
      ],
      "text/plain": [
       "         Date  Close/Last    Volume       Open         High          Low\n",
       "0  2020-08-05    $1485.02   4978015   $1492.99   $1499.8384     $1468.31\n",
       "1  2020-08-04       $1487   8414990   $1495.01     $1527.41        $1462\n",
       "2  2020-08-03       $1485   8809346    $1449.2   $1509.8101   $1444.3844\n",
       "3  2020-07-31    $1430.76  12246960      $1515     $1517.05     $1420.98\n",
       "4  2020-07-30    $1487.49   7621039      $1488     $1513.24        $1471"
      ]
     },
     "execution_count": 12,
     "metadata": {},
     "output_type": "execute_result"
    }
   ],
   "source": [
    "df_stock.head()"
   ]
  },
  {
   "cell_type": "code",
   "execution_count": 13,
   "metadata": {},
   "outputs": [
    {
     "data": {
      "text/html": [
       "<div>\n",
       "<style scoped>\n",
       "    .dataframe tbody tr th:only-of-type {\n",
       "        vertical-align: middle;\n",
       "    }\n",
       "\n",
       "    .dataframe tbody tr th {\n",
       "        vertical-align: top;\n",
       "    }\n",
       "\n",
       "    .dataframe thead th {\n",
       "        text-align: right;\n",
       "    }\n",
       "</style>\n",
       "<table border=\"1\" class=\"dataframe\">\n",
       "  <thead>\n",
       "    <tr style=\"text-align: right;\">\n",
       "      <th></th>\n",
       "      <th>Date</th>\n",
       "      <th>Close/Last</th>\n",
       "      <th>Volume</th>\n",
       "      <th>Open</th>\n",
       "      <th>High</th>\n",
       "      <th>Low</th>\n",
       "    </tr>\n",
       "  </thead>\n",
       "  <tbody>\n",
       "    <tr>\n",
       "      <th>0</th>\n",
       "      <td>2020-08-05</td>\n",
       "      <td>1485.02</td>\n",
       "      <td>4978015</td>\n",
       "      <td>1492.99</td>\n",
       "      <td>1499.8384</td>\n",
       "      <td>1468.3100</td>\n",
       "    </tr>\n",
       "    <tr>\n",
       "      <th>1</th>\n",
       "      <td>2020-08-04</td>\n",
       "      <td>1487.00</td>\n",
       "      <td>8414990</td>\n",
       "      <td>1495.01</td>\n",
       "      <td>1527.4100</td>\n",
       "      <td>1462.0000</td>\n",
       "    </tr>\n",
       "    <tr>\n",
       "      <th>2</th>\n",
       "      <td>2020-08-03</td>\n",
       "      <td>1485.00</td>\n",
       "      <td>8809346</td>\n",
       "      <td>1449.20</td>\n",
       "      <td>1509.8101</td>\n",
       "      <td>1444.3844</td>\n",
       "    </tr>\n",
       "    <tr>\n",
       "      <th>3</th>\n",
       "      <td>2020-07-31</td>\n",
       "      <td>1430.76</td>\n",
       "      <td>12246960</td>\n",
       "      <td>1515.00</td>\n",
       "      <td>1517.0500</td>\n",
       "      <td>1420.9800</td>\n",
       "    </tr>\n",
       "    <tr>\n",
       "      <th>4</th>\n",
       "      <td>2020-07-30</td>\n",
       "      <td>1487.49</td>\n",
       "      <td>7621039</td>\n",
       "      <td>1488.00</td>\n",
       "      <td>1513.2400</td>\n",
       "      <td>1471.0000</td>\n",
       "    </tr>\n",
       "  </tbody>\n",
       "</table>\n",
       "</div>"
      ],
      "text/plain": [
       "         Date   Close/Last    Volume     Open       High        Low\n",
       "0  2020-08-05      1485.02   4978015  1492.99  1499.8384  1468.3100\n",
       "1  2020-08-04      1487.00   8414990  1495.01  1527.4100  1462.0000\n",
       "2  2020-08-03      1485.00   8809346  1449.20  1509.8101  1444.3844\n",
       "3  2020-07-31      1430.76  12246960  1515.00  1517.0500  1420.9800\n",
       "4  2020-07-30      1487.49   7621039  1488.00  1513.2400  1471.0000"
      ]
     },
     "execution_count": 13,
     "metadata": {},
     "output_type": "execute_result"
    }
   ],
   "source": [
    "for c in [' Close/Last', ' Open', ' High', ' Low']:\n",
    "    df_stock[c] = df_stock[c].str.replace('$', '').astype(float)\n",
    "df_stock.head(5)"
   ]
  },
  {
   "cell_type": "code",
   "execution_count": 14,
   "metadata": {},
   "outputs": [
    {
     "data": {
      "text/plain": [
       "Index(['date', 'close/last', 'volume', 'open', 'high', 'low'], dtype='object')"
      ]
     },
     "execution_count": 14,
     "metadata": {},
     "output_type": "execute_result"
    }
   ],
   "source": [
    "df_stock.rename(columns=lambda x: x.replace(' ', '').lower(), inplace=True)\n",
    "df_stock.columns"
   ]
  },
  {
   "cell_type": "code",
   "execution_count": 15,
   "metadata": {},
   "outputs": [
    {
     "data": {
      "text/plain": [
       "[1484.0742, 1494.705, 1477.0972499999998, 1469.0149999999999, 1492.12]"
      ]
     },
     "execution_count": 15,
     "metadata": {},
     "output_type": "execute_result"
    }
   ],
   "source": [
    "avg_list = []\n",
    "for date in df_stock.index:\n",
    "    avg = (df_stock.high[date] + df_stock.low[date])/2\n",
    "    avg_list.append(avg)\n",
    "avg_list[0:5]"
   ]
  },
  {
   "cell_type": "code",
   "execution_count": 16,
   "metadata": {},
   "outputs": [
    {
     "data": {
      "text/plain": [
       "[11092.15, 11849.1, 11310.2, 11044.5, 11037.15]"
      ]
     },
     "execution_count": 16,
     "metadata": {},
     "output_type": "execute_result"
    }
   ],
   "source": [
    "btc_list = []\n",
    "for date in df_btc.index:\n",
    "    avg = round(((df_btc.high[date] + df_btc.low[date])/2), 2)\n",
    "    btc_list.append(avg)\n",
    "btc_list[0:5]"
   ]
  },
  {
   "cell_type": "code",
   "execution_count": 17,
   "metadata": {},
   "outputs": [
    {
     "data": {
      "text/html": [
       "<div>\n",
       "<style scoped>\n",
       "    .dataframe tbody tr th:only-of-type {\n",
       "        vertical-align: middle;\n",
       "    }\n",
       "\n",
       "    .dataframe tbody tr th {\n",
       "        vertical-align: top;\n",
       "    }\n",
       "\n",
       "    .dataframe thead th {\n",
       "        text-align: right;\n",
       "    }\n",
       "</style>\n",
       "<table border=\"1\" class=\"dataframe\">\n",
       "  <thead>\n",
       "    <tr style=\"text-align: right;\">\n",
       "      <th></th>\n",
       "      <th>date</th>\n",
       "      <th>close/last</th>\n",
       "      <th>volume</th>\n",
       "      <th>open</th>\n",
       "      <th>high</th>\n",
       "      <th>low</th>\n",
       "      <th>btc_avg</th>\n",
       "    </tr>\n",
       "  </thead>\n",
       "  <tbody>\n",
       "    <tr>\n",
       "      <th>1</th>\n",
       "      <td>2020-08-02</td>\n",
       "      <td>11157.1</td>\n",
       "      <td>N/A</td>\n",
       "      <td>11968.2</td>\n",
       "      <td>11202.7</td>\n",
       "      <td>10981.6</td>\n",
       "      <td>11092.15</td>\n",
       "    </tr>\n",
       "    <tr>\n",
       "      <th>2</th>\n",
       "      <td>2020-08-01</td>\n",
       "      <td>11941.5</td>\n",
       "      <td>N/A</td>\n",
       "      <td>11360.7</td>\n",
       "      <td>11943.4</td>\n",
       "      <td>11754.8</td>\n",
       "      <td>11849.10</td>\n",
       "    </tr>\n",
       "    <tr>\n",
       "      <th>3</th>\n",
       "      <td>2020-07-31</td>\n",
       "      <td>11387.8</td>\n",
       "      <td>N/A</td>\n",
       "      <td>10972.3</td>\n",
       "      <td>11394.3</td>\n",
       "      <td>11226.1</td>\n",
       "      <td>11310.20</td>\n",
       "    </tr>\n",
       "    <tr>\n",
       "      <th>4</th>\n",
       "      <td>2020-07-30</td>\n",
       "      <td>10980.8</td>\n",
       "      <td>N/A</td>\n",
       "      <td>10987.6</td>\n",
       "      <td>11124.4</td>\n",
       "      <td>10964.6</td>\n",
       "      <td>11044.50</td>\n",
       "    </tr>\n",
       "    <tr>\n",
       "      <th>5</th>\n",
       "      <td>2020-07-29</td>\n",
       "      <td>10999.0</td>\n",
       "      <td>N/A</td>\n",
       "      <td>10970.9</td>\n",
       "      <td>11114.4</td>\n",
       "      <td>10959.9</td>\n",
       "      <td>11037.15</td>\n",
       "    </tr>\n",
       "  </tbody>\n",
       "</table>\n",
       "</div>"
      ],
      "text/plain": [
       "         date  close/last volume     open     high      low   btc_avg\n",
       "1  2020-08-02     11157.1    N/A  11968.2  11202.7  10981.6  11092.15\n",
       "2  2020-08-01     11941.5    N/A  11360.7  11943.4  11754.8  11849.10\n",
       "3  2020-07-31     11387.8    N/A  10972.3  11394.3  11226.1  11310.20\n",
       "4  2020-07-30     10980.8    N/A  10987.6  11124.4  10964.6  11044.50\n",
       "5  2020-07-29     10999.0    N/A  10970.9  11114.4  10959.9  11037.15"
      ]
     },
     "execution_count": 17,
     "metadata": {},
     "output_type": "execute_result"
    }
   ],
   "source": [
    "df_btc['btc_avg'] = btc_list\n",
    "df_btc.head(5)"
   ]
  },
  {
   "cell_type": "code",
   "execution_count": 18,
   "metadata": {},
   "outputs": [
    {
     "data": {
      "text/html": [
       "<div>\n",
       "<style scoped>\n",
       "    .dataframe tbody tr th:only-of-type {\n",
       "        vertical-align: middle;\n",
       "    }\n",
       "\n",
       "    .dataframe tbody tr th {\n",
       "        vertical-align: top;\n",
       "    }\n",
       "\n",
       "    .dataframe thead th {\n",
       "        text-align: right;\n",
       "    }\n",
       "</style>\n",
       "<table border=\"1\" class=\"dataframe\">\n",
       "  <thead>\n",
       "    <tr style=\"text-align: right;\">\n",
       "      <th></th>\n",
       "      <th>date</th>\n",
       "      <th>close/last</th>\n",
       "      <th>volume</th>\n",
       "      <th>open</th>\n",
       "      <th>high</th>\n",
       "      <th>low</th>\n",
       "      <th>stock_avg</th>\n",
       "    </tr>\n",
       "  </thead>\n",
       "  <tbody>\n",
       "    <tr>\n",
       "      <th>0</th>\n",
       "      <td>2020-08-05</td>\n",
       "      <td>1485.02</td>\n",
       "      <td>4978015</td>\n",
       "      <td>1492.99</td>\n",
       "      <td>1499.8384</td>\n",
       "      <td>1468.3100</td>\n",
       "      <td>1484.07420</td>\n",
       "    </tr>\n",
       "    <tr>\n",
       "      <th>1</th>\n",
       "      <td>2020-08-04</td>\n",
       "      <td>1487.00</td>\n",
       "      <td>8414990</td>\n",
       "      <td>1495.01</td>\n",
       "      <td>1527.4100</td>\n",
       "      <td>1462.0000</td>\n",
       "      <td>1494.70500</td>\n",
       "    </tr>\n",
       "    <tr>\n",
       "      <th>2</th>\n",
       "      <td>2020-08-03</td>\n",
       "      <td>1485.00</td>\n",
       "      <td>8809346</td>\n",
       "      <td>1449.20</td>\n",
       "      <td>1509.8101</td>\n",
       "      <td>1444.3844</td>\n",
       "      <td>1477.09725</td>\n",
       "    </tr>\n",
       "    <tr>\n",
       "      <th>3</th>\n",
       "      <td>2020-07-31</td>\n",
       "      <td>1430.76</td>\n",
       "      <td>12246960</td>\n",
       "      <td>1515.00</td>\n",
       "      <td>1517.0500</td>\n",
       "      <td>1420.9800</td>\n",
       "      <td>1469.01500</td>\n",
       "    </tr>\n",
       "    <tr>\n",
       "      <th>4</th>\n",
       "      <td>2020-07-30</td>\n",
       "      <td>1487.49</td>\n",
       "      <td>7621039</td>\n",
       "      <td>1488.00</td>\n",
       "      <td>1513.2400</td>\n",
       "      <td>1471.0000</td>\n",
       "      <td>1492.12000</td>\n",
       "    </tr>\n",
       "  </tbody>\n",
       "</table>\n",
       "</div>"
      ],
      "text/plain": [
       "         date  close/last    volume     open       high        low   stock_avg\n",
       "0  2020-08-05     1485.02   4978015  1492.99  1499.8384  1468.3100  1484.07420\n",
       "1  2020-08-04     1487.00   8414990  1495.01  1527.4100  1462.0000  1494.70500\n",
       "2  2020-08-03     1485.00   8809346  1449.20  1509.8101  1444.3844  1477.09725\n",
       "3  2020-07-31     1430.76  12246960  1515.00  1517.0500  1420.9800  1469.01500\n",
       "4  2020-07-30     1487.49   7621039  1488.00  1513.2400  1471.0000  1492.12000"
      ]
     },
     "execution_count": 18,
     "metadata": {},
     "output_type": "execute_result"
    }
   ],
   "source": [
    "df_stock['stock_avg'] = avg_list\n",
    "df_stock.head(5)"
   ]
  },
  {
   "cell_type": "code",
   "execution_count": 19,
   "metadata": {
    "scrolled": true
   },
   "outputs": [
    {
     "data": {
      "text/html": [
       "<div>\n",
       "<style scoped>\n",
       "    .dataframe tbody tr th:only-of-type {\n",
       "        vertical-align: middle;\n",
       "    }\n",
       "\n",
       "    .dataframe tbody tr th {\n",
       "        vertical-align: top;\n",
       "    }\n",
       "\n",
       "    .dataframe thead th {\n",
       "        text-align: right;\n",
       "    }\n",
       "</style>\n",
       "<table border=\"1\" class=\"dataframe\">\n",
       "  <thead>\n",
       "    <tr style=\"text-align: right;\">\n",
       "      <th></th>\n",
       "      <th>date</th>\n",
       "      <th>btc_avg</th>\n",
       "    </tr>\n",
       "  </thead>\n",
       "  <tbody>\n",
       "    <tr>\n",
       "      <th>1</th>\n",
       "      <td>2020-08-02</td>\n",
       "      <td>11092.15</td>\n",
       "    </tr>\n",
       "    <tr>\n",
       "      <th>2</th>\n",
       "      <td>2020-08-01</td>\n",
       "      <td>11849.10</td>\n",
       "    </tr>\n",
       "    <tr>\n",
       "      <th>3</th>\n",
       "      <td>2020-07-31</td>\n",
       "      <td>11310.20</td>\n",
       "    </tr>\n",
       "    <tr>\n",
       "      <th>4</th>\n",
       "      <td>2020-07-30</td>\n",
       "      <td>11044.50</td>\n",
       "    </tr>\n",
       "    <tr>\n",
       "      <th>5</th>\n",
       "      <td>2020-07-29</td>\n",
       "      <td>11037.15</td>\n",
       "    </tr>\n",
       "    <tr>\n",
       "      <th>...</th>\n",
       "      <td>...</td>\n",
       "      <td>...</td>\n",
       "    </tr>\n",
       "    <tr>\n",
       "      <th>300</th>\n",
       "      <td>2019-10-08</td>\n",
       "      <td>8182.60</td>\n",
       "    </tr>\n",
       "    <tr>\n",
       "      <th>301</th>\n",
       "      <td>2019-10-07</td>\n",
       "      <td>8243.05</td>\n",
       "    </tr>\n",
       "    <tr>\n",
       "      <th>302</th>\n",
       "      <td>2019-10-06</td>\n",
       "      <td>8044.85</td>\n",
       "    </tr>\n",
       "    <tr>\n",
       "      <th>303</th>\n",
       "      <td>2019-10-05</td>\n",
       "      <td>8088.45</td>\n",
       "    </tr>\n",
       "    <tr>\n",
       "      <th>304</th>\n",
       "      <td>2019-10-04</td>\n",
       "      <td>8138.45</td>\n",
       "    </tr>\n",
       "  </tbody>\n",
       "</table>\n",
       "<p>304 rows × 2 columns</p>\n",
       "</div>"
      ],
      "text/plain": [
       "           date   btc_avg\n",
       "1    2020-08-02  11092.15\n",
       "2    2020-08-01  11849.10\n",
       "3    2020-07-31  11310.20\n",
       "4    2020-07-30  11044.50\n",
       "5    2020-07-29  11037.15\n",
       "..          ...       ...\n",
       "300  2019-10-08   8182.60\n",
       "301  2019-10-07   8243.05\n",
       "302  2019-10-06   8044.85\n",
       "303  2019-10-05   8088.45\n",
       "304  2019-10-04   8138.45\n",
       "\n",
       "[304 rows x 2 columns]"
      ]
     },
     "execution_count": 19,
     "metadata": {},
     "output_type": "execute_result"
    }
   ],
   "source": [
    "df_premium = df_btc.drop(columns=['close/last', 'volume', 'open', 'high', 'low'], axis=1, inplace=False)\n",
    "df_premium"
   ]
  },
  {
   "cell_type": "code",
   "execution_count": 20,
   "metadata": {},
   "outputs": [
    {
     "data": {
      "text/html": [
       "<div>\n",
       "<style scoped>\n",
       "    .dataframe tbody tr th:only-of-type {\n",
       "        vertical-align: middle;\n",
       "    }\n",
       "\n",
       "    .dataframe tbody tr th {\n",
       "        vertical-align: top;\n",
       "    }\n",
       "\n",
       "    .dataframe thead th {\n",
       "        text-align: right;\n",
       "    }\n",
       "</style>\n",
       "<table border=\"1\" class=\"dataframe\">\n",
       "  <thead>\n",
       "    <tr style=\"text-align: right;\">\n",
       "      <th></th>\n",
       "      <th>btc_avg</th>\n",
       "    </tr>\n",
       "    <tr>\n",
       "      <th>date</th>\n",
       "      <th></th>\n",
       "    </tr>\n",
       "  </thead>\n",
       "  <tbody>\n",
       "    <tr>\n",
       "      <th>2020-08-02</th>\n",
       "      <td>11092.15</td>\n",
       "    </tr>\n",
       "  </tbody>\n",
       "</table>\n",
       "</div>"
      ],
      "text/plain": [
       "             btc_avg\n",
       "date                \n",
       "2020-08-02  11092.15"
      ]
     },
     "execution_count": 20,
     "metadata": {},
     "output_type": "execute_result"
    }
   ],
   "source": [
    "df_premium.set_index(\"date\", inplace=True)\n",
    "df_premium.head(1)"
   ]
  },
  {
   "cell_type": "code",
   "execution_count": 21,
   "metadata": {},
   "outputs": [
    {
     "data": {
      "text/html": [
       "<div>\n",
       "<style scoped>\n",
       "    .dataframe tbody tr th:only-of-type {\n",
       "        vertical-align: middle;\n",
       "    }\n",
       "\n",
       "    .dataframe tbody tr th {\n",
       "        vertical-align: top;\n",
       "    }\n",
       "\n",
       "    .dataframe thead th {\n",
       "        text-align: right;\n",
       "    }\n",
       "</style>\n",
       "<table border=\"1\" class=\"dataframe\">\n",
       "  <thead>\n",
       "    <tr style=\"text-align: right;\">\n",
       "      <th></th>\n",
       "      <th>close/last</th>\n",
       "      <th>volume</th>\n",
       "      <th>open</th>\n",
       "      <th>high</th>\n",
       "      <th>low</th>\n",
       "      <th>stock_avg</th>\n",
       "    </tr>\n",
       "    <tr>\n",
       "      <th>date</th>\n",
       "      <th></th>\n",
       "      <th></th>\n",
       "      <th></th>\n",
       "      <th></th>\n",
       "      <th></th>\n",
       "      <th></th>\n",
       "    </tr>\n",
       "  </thead>\n",
       "  <tbody>\n",
       "    <tr>\n",
       "      <th>2020-08-05</th>\n",
       "      <td>1485.02</td>\n",
       "      <td>4978015</td>\n",
       "      <td>1492.99</td>\n",
       "      <td>1499.8384</td>\n",
       "      <td>1468.31</td>\n",
       "      <td>1484.0742</td>\n",
       "    </tr>\n",
       "  </tbody>\n",
       "</table>\n",
       "</div>"
      ],
      "text/plain": [
       "            close/last   volume     open       high      low  stock_avg\n",
       "date                                                                   \n",
       "2020-08-05     1485.02  4978015  1492.99  1499.8384  1468.31  1484.0742"
      ]
     },
     "execution_count": 21,
     "metadata": {},
     "output_type": "execute_result"
    }
   ],
   "source": [
    "df_stock.set_index(\"date\", inplace=True)\n",
    "df_stock.head(1)"
   ]
  },
  {
   "cell_type": "code",
   "execution_count": 22,
   "metadata": {
    "scrolled": true
   },
   "outputs": [
    {
     "data": {
      "text/html": [
       "<div>\n",
       "<style scoped>\n",
       "    .dataframe tbody tr th:only-of-type {\n",
       "        vertical-align: middle;\n",
       "    }\n",
       "\n",
       "    .dataframe tbody tr th {\n",
       "        vertical-align: top;\n",
       "    }\n",
       "\n",
       "    .dataframe thead th {\n",
       "        text-align: right;\n",
       "    }\n",
       "</style>\n",
       "<table border=\"1\" class=\"dataframe\">\n",
       "  <thead>\n",
       "    <tr style=\"text-align: right;\">\n",
       "      <th></th>\n",
       "      <th>date</th>\n",
       "      <th>btc_avg</th>\n",
       "      <th>stock_avg</th>\n",
       "    </tr>\n",
       "  </thead>\n",
       "  <tbody>\n",
       "    <tr>\n",
       "      <th>0</th>\n",
       "      <td>2020-08-02</td>\n",
       "      <td>11092.15</td>\n",
       "      <td>NaN</td>\n",
       "    </tr>\n",
       "    <tr>\n",
       "      <th>1</th>\n",
       "      <td>2020-08-01</td>\n",
       "      <td>11849.10</td>\n",
       "      <td>NaN</td>\n",
       "    </tr>\n",
       "    <tr>\n",
       "      <th>2</th>\n",
       "      <td>2020-07-31</td>\n",
       "      <td>11310.20</td>\n",
       "      <td>1469.015</td>\n",
       "    </tr>\n",
       "    <tr>\n",
       "      <th>3</th>\n",
       "      <td>2020-07-30</td>\n",
       "      <td>11044.50</td>\n",
       "      <td>1492.120</td>\n",
       "    </tr>\n",
       "    <tr>\n",
       "      <th>4</th>\n",
       "      <td>2020-07-29</td>\n",
       "      <td>11037.15</td>\n",
       "      <td>1510.905</td>\n",
       "    </tr>\n",
       "  </tbody>\n",
       "</table>\n",
       "</div>"
      ],
      "text/plain": [
       "         date   btc_avg  stock_avg\n",
       "0  2020-08-02  11092.15        NaN\n",
       "1  2020-08-01  11849.10        NaN\n",
       "2  2020-07-31  11310.20   1469.015\n",
       "3  2020-07-30  11044.50   1492.120\n",
       "4  2020-07-29  11037.15   1510.905"
      ]
     },
     "execution_count": 22,
     "metadata": {},
     "output_type": "execute_result"
    }
   ],
   "source": [
    "df_premium['stock_avg'] = df_stock['stock_avg']\n",
    "df_premium = df_premium.reset_index()\n",
    "df_premium.head(5)"
   ]
  },
  {
   "cell_type": "code",
   "execution_count": 23,
   "metadata": {},
   "outputs": [
    {
     "data": {
      "text/plain": [
       "'2778.61'"
      ]
     },
     "execution_count": 23,
     "metadata": {},
     "output_type": "execute_result"
    }
   ],
   "source": [
    "format(1/11315*3144*10000, '.2f') "
   ]
  },
  {
   "cell_type": "code",
   "execution_count": 24,
   "metadata": {},
   "outputs": [
    {
     "data": {
      "text/plain": [
       "'nan'"
      ]
     },
     "execution_count": 24,
     "metadata": {},
     "output_type": "execute_result"
    }
   ],
   "source": [
    "format(1/df_premium.btc_avg[0] * df_premium.stock_avg[0] * 10000, '.2f') # price in 10,000 sats"
   ]
  },
  {
   "cell_type": "code",
   "execution_count": 25,
   "metadata": {
    "scrolled": false
   },
   "outputs": [
    {
     "data": {
      "text/html": [
       "<div>\n",
       "<style scoped>\n",
       "    .dataframe tbody tr th:only-of-type {\n",
       "        vertical-align: middle;\n",
       "    }\n",
       "\n",
       "    .dataframe tbody tr th {\n",
       "        vertical-align: top;\n",
       "    }\n",
       "\n",
       "    .dataframe thead th {\n",
       "        text-align: right;\n",
       "    }\n",
       "</style>\n",
       "<table border=\"1\" class=\"dataframe\">\n",
       "  <thead>\n",
       "    <tr style=\"text-align: right;\">\n",
       "      <th></th>\n",
       "      <th>date</th>\n",
       "      <th>btc_avg</th>\n",
       "      <th>stock_avg</th>\n",
       "      <th>sats_price</th>\n",
       "    </tr>\n",
       "  </thead>\n",
       "  <tbody>\n",
       "    <tr>\n",
       "      <th>0</th>\n",
       "      <td>2020-08-02</td>\n",
       "      <td>11092.15</td>\n",
       "      <td>NaN</td>\n",
       "      <td>NaN</td>\n",
       "    </tr>\n",
       "    <tr>\n",
       "      <th>1</th>\n",
       "      <td>2020-08-01</td>\n",
       "      <td>11849.10</td>\n",
       "      <td>NaN</td>\n",
       "      <td>NaN</td>\n",
       "    </tr>\n",
       "    <tr>\n",
       "      <th>2</th>\n",
       "      <td>2020-07-31</td>\n",
       "      <td>11310.20</td>\n",
       "      <td>1469.015</td>\n",
       "      <td>1298.84</td>\n",
       "    </tr>\n",
       "    <tr>\n",
       "      <th>3</th>\n",
       "      <td>2020-07-30</td>\n",
       "      <td>11044.50</td>\n",
       "      <td>1492.120</td>\n",
       "      <td>1351.01</td>\n",
       "    </tr>\n",
       "    <tr>\n",
       "      <th>4</th>\n",
       "      <td>2020-07-29</td>\n",
       "      <td>11037.15</td>\n",
       "      <td>1510.905</td>\n",
       "      <td>1368.93</td>\n",
       "    </tr>\n",
       "  </tbody>\n",
       "</table>\n",
       "</div>"
      ],
      "text/plain": [
       "         date   btc_avg  stock_avg  sats_price\n",
       "0  2020-08-02  11092.15        NaN         NaN\n",
       "1  2020-08-01  11849.10        NaN         NaN\n",
       "2  2020-07-31  11310.20   1469.015     1298.84\n",
       "3  2020-07-30  11044.50   1492.120     1351.01\n",
       "4  2020-07-29  11037.15   1510.905     1368.93"
      ]
     },
     "execution_count": 25,
     "metadata": {},
     "output_type": "execute_result"
    }
   ],
   "source": [
    "sats_price_list = []\n",
    "for date in df_premium.index:\n",
    "    if df_premium.stock_avg[date]:\n",
    "        sats_price = float(format(1/df_premium.btc_avg[date] * df_premium.stock_avg[date] * 10000, '.2f'))\n",
    "        sats_price_list.append(sats_price)\n",
    "\n",
    "df_premium['sats_price'] = sats_price_list\n",
    "df_premium.head(5)"
   ]
  },
  {
   "cell_type": "code",
   "execution_count": 26,
   "metadata": {},
   "outputs": [
    {
     "data": {
      "text/plain": [
       "numpy.float64"
      ]
     },
     "execution_count": 26,
     "metadata": {},
     "output_type": "execute_result"
    }
   ],
   "source": [
    "type(df_premium.sats_price[1])"
   ]
  },
  {
   "cell_type": "code",
   "execution_count": 27,
   "metadata": {},
   "outputs": [
    {
     "data": {
      "text/html": [
       "<div>\n",
       "<style scoped>\n",
       "    .dataframe tbody tr th:only-of-type {\n",
       "        vertical-align: middle;\n",
       "    }\n",
       "\n",
       "    .dataframe tbody tr th {\n",
       "        vertical-align: top;\n",
       "    }\n",
       "\n",
       "    .dataframe thead th {\n",
       "        text-align: right;\n",
       "    }\n",
       "</style>\n",
       "<table border=\"1\" class=\"dataframe\">\n",
       "  <thead>\n",
       "    <tr style=\"text-align: right;\">\n",
       "      <th></th>\n",
       "      <th>date</th>\n",
       "      <th>btc_avg</th>\n",
       "      <th>stock_avg</th>\n",
       "      <th>sats_price</th>\n",
       "    </tr>\n",
       "  </thead>\n",
       "  <tbody>\n",
       "    <tr>\n",
       "      <th>6</th>\n",
       "      <td>2020-07-27</td>\n",
       "      <td>11041.65</td>\n",
       "      <td>1480.47015</td>\n",
       "      <td>1340.81</td>\n",
       "    </tr>\n",
       "    <tr>\n",
       "      <th>7</th>\n",
       "      <td>2020-07-26</td>\n",
       "      <td>10052.90</td>\n",
       "      <td>NaN</td>\n",
       "      <td>NaN</td>\n",
       "    </tr>\n",
       "    <tr>\n",
       "      <th>8</th>\n",
       "      <td>2020-07-25</td>\n",
       "      <td>9668.30</td>\n",
       "      <td>NaN</td>\n",
       "      <td>NaN</td>\n",
       "    </tr>\n",
       "    <tr>\n",
       "      <th>9</th>\n",
       "      <td>2020-07-24</td>\n",
       "      <td>9574.45</td>\n",
       "      <td>1415.77005</td>\n",
       "      <td>1478.70</td>\n",
       "    </tr>\n",
       "    <tr>\n",
       "      <th>10</th>\n",
       "      <td>2020-07-23</td>\n",
       "      <td>9572.40</td>\n",
       "      <td>1584.88500</td>\n",
       "      <td>1655.68</td>\n",
       "    </tr>\n",
       "    <tr>\n",
       "      <th>11</th>\n",
       "      <td>2020-07-22</td>\n",
       "      <td>9496.80</td>\n",
       "      <td>1594.21000</td>\n",
       "      <td>1678.68</td>\n",
       "    </tr>\n",
       "    <tr>\n",
       "      <th>12</th>\n",
       "      <td>2020-07-21</td>\n",
       "      <td>9371.35</td>\n",
       "      <td>1616.50000</td>\n",
       "      <td>1724.94</td>\n",
       "    </tr>\n",
       "    <tr>\n",
       "      <th>13</th>\n",
       "      <td>2020-07-20</td>\n",
       "      <td>9174.85</td>\n",
       "      <td>1569.00000</td>\n",
       "      <td>1710.11</td>\n",
       "    </tr>\n",
       "    <tr>\n",
       "      <th>14</th>\n",
       "      <td>2020-07-19</td>\n",
       "      <td>9197.70</td>\n",
       "      <td>NaN</td>\n",
       "      <td>NaN</td>\n",
       "    </tr>\n",
       "    <tr>\n",
       "      <th>15</th>\n",
       "      <td>2020-07-18</td>\n",
       "      <td>9162.15</td>\n",
       "      <td>NaN</td>\n",
       "      <td>NaN</td>\n",
       "    </tr>\n",
       "    <tr>\n",
       "      <th>16</th>\n",
       "      <td>2020-07-17</td>\n",
       "      <td>9147.55</td>\n",
       "      <td>1513.75500</td>\n",
       "      <td>1654.82</td>\n",
       "    </tr>\n",
       "    <tr>\n",
       "      <th>17</th>\n",
       "      <td>2020-07-16</td>\n",
       "      <td>9124.50</td>\n",
       "      <td>1498.85500</td>\n",
       "      <td>1642.67</td>\n",
       "    </tr>\n",
       "    <tr>\n",
       "      <th>18</th>\n",
       "      <td>2020-07-15</td>\n",
       "      <td>9203.60</td>\n",
       "      <td>1503.50000</td>\n",
       "      <td>1633.60</td>\n",
       "    </tr>\n",
       "    <tr>\n",
       "      <th>19</th>\n",
       "      <td>2020-07-14</td>\n",
       "      <td>9255.20</td>\n",
       "      <td>1510.50000</td>\n",
       "      <td>1632.06</td>\n",
       "    </tr>\n",
       "    <tr>\n",
       "      <th>20</th>\n",
       "      <td>2020-07-13</td>\n",
       "      <td>9232.30</td>\n",
       "      <td>1633.05005</td>\n",
       "      <td>1768.84</td>\n",
       "    </tr>\n",
       "    <tr>\n",
       "      <th>21</th>\n",
       "      <td>2020-07-12</td>\n",
       "      <td>9295.00</td>\n",
       "      <td>NaN</td>\n",
       "      <td>NaN</td>\n",
       "    </tr>\n",
       "    <tr>\n",
       "      <th>22</th>\n",
       "      <td>2020-07-11</td>\n",
       "      <td>9259.00</td>\n",
       "      <td>NaN</td>\n",
       "      <td>NaN</td>\n",
       "    </tr>\n",
       "    <tr>\n",
       "      <th>23</th>\n",
       "      <td>2020-07-10</td>\n",
       "      <td>9278.55</td>\n",
       "      <td>1462.46255</td>\n",
       "      <td>1576.18</td>\n",
       "    </tr>\n",
       "    <tr>\n",
       "      <th>24</th>\n",
       "      <td>2020-07-09</td>\n",
       "      <td>9223.05</td>\n",
       "      <td>1379.92000</td>\n",
       "      <td>1496.16</td>\n",
       "    </tr>\n",
       "    <tr>\n",
       "      <th>25</th>\n",
       "      <td>2020-07-08</td>\n",
       "      <td>9397.90</td>\n",
       "      <td>1364.30000</td>\n",
       "      <td>1451.71</td>\n",
       "    </tr>\n",
       "    <tr>\n",
       "      <th>26</th>\n",
       "      <td>2020-07-07</td>\n",
       "      <td>9276.50</td>\n",
       "      <td>1383.10500</td>\n",
       "      <td>1490.98</td>\n",
       "    </tr>\n",
       "    <tr>\n",
       "      <th>27</th>\n",
       "      <td>2020-07-06</td>\n",
       "      <td>9318.75</td>\n",
       "      <td>1321.91700</td>\n",
       "      <td>1418.56</td>\n",
       "    </tr>\n",
       "    <tr>\n",
       "      <th>28</th>\n",
       "      <td>2020-07-05</td>\n",
       "      <td>9088.65</td>\n",
       "      <td>NaN</td>\n",
       "      <td>NaN</td>\n",
       "    </tr>\n",
       "    <tr>\n",
       "      <th>29</th>\n",
       "      <td>2020-07-04</td>\n",
       "      <td>9131.80</td>\n",
       "      <td>NaN</td>\n",
       "      <td>NaN</td>\n",
       "    </tr>\n",
       "  </tbody>\n",
       "</table>\n",
       "</div>"
      ],
      "text/plain": [
       "          date   btc_avg   stock_avg  sats_price\n",
       "6   2020-07-27  11041.65  1480.47015     1340.81\n",
       "7   2020-07-26  10052.90         NaN         NaN\n",
       "8   2020-07-25   9668.30         NaN         NaN\n",
       "9   2020-07-24   9574.45  1415.77005     1478.70\n",
       "10  2020-07-23   9572.40  1584.88500     1655.68\n",
       "11  2020-07-22   9496.80  1594.21000     1678.68\n",
       "12  2020-07-21   9371.35  1616.50000     1724.94\n",
       "13  2020-07-20   9174.85  1569.00000     1710.11\n",
       "14  2020-07-19   9197.70         NaN         NaN\n",
       "15  2020-07-18   9162.15         NaN         NaN\n",
       "16  2020-07-17   9147.55  1513.75500     1654.82\n",
       "17  2020-07-16   9124.50  1498.85500     1642.67\n",
       "18  2020-07-15   9203.60  1503.50000     1633.60\n",
       "19  2020-07-14   9255.20  1510.50000     1632.06\n",
       "20  2020-07-13   9232.30  1633.05005     1768.84\n",
       "21  2020-07-12   9295.00         NaN         NaN\n",
       "22  2020-07-11   9259.00         NaN         NaN\n",
       "23  2020-07-10   9278.55  1462.46255     1576.18\n",
       "24  2020-07-09   9223.05  1379.92000     1496.16\n",
       "25  2020-07-08   9397.90  1364.30000     1451.71\n",
       "26  2020-07-07   9276.50  1383.10500     1490.98\n",
       "27  2020-07-06   9318.75  1321.91700     1418.56\n",
       "28  2020-07-05   9088.65         NaN         NaN\n",
       "29  2020-07-04   9131.80         NaN         NaN"
      ]
     },
     "execution_count": 27,
     "metadata": {},
     "output_type": "execute_result"
    }
   ],
   "source": [
    "new_df = df_premium.query('date > datetime.strptime(\"07-03-2020\", \"%m-%d-%Y\").date()' )\n",
    "new_df = new_df.query('date < datetime.strptime(\"07-28-2020\", \"%m-%d-%Y\").date()' )\n",
    "new_df"
   ]
  },
  {
   "cell_type": "code",
   "execution_count": 28,
   "metadata": {},
   "outputs": [
    {
     "data": {
      "text/plain": [
       "False"
      ]
     },
     "execution_count": 28,
     "metadata": {},
     "output_type": "execute_result"
    }
   ],
   "source": [
    "df_premium.date[0] == '2020-08-03'"
   ]
  },
  {
   "cell_type": "code",
   "execution_count": 29,
   "metadata": {},
   "outputs": [
    {
     "data": {
      "image/png": "[encoded data removed]",
      "text/plain": [
       "<Figure size 1080x864 with 1 Axes>"
      ]
     },
     "metadata": {
      "needs_background": "light"
     },
     "output_type": "display_data"
    }
   ],
   "source": [
    "plt.subplots(figsize=(15, 12))\n",
    "plt.grid(True)\n",
    "plt.plot(df_premium.date, df_premium.sats_price.fillna(method='ffill'), color='orange')\n",
    "plt.plot(df_premium.date, df_premium.stock_avg.fillna(method='ffill'), color='green')\n",
    "plt.title('Daily Stock Price in Bitcoin', fontsize=18)\n",
    "plt.ylabel('Price in Tens of Thousands of Sats | Dollars', fontsize=16)\n",
    "plt.xlabel('Date', fontsize=16)\n",
    "plt.savefig('image_1.png')\n",
    "plt.legend(['Bitcoin', 'Dollars'], loc=2);"
   ]
  },
  {
   "cell_type": "code",
   "execution_count": 30,
   "metadata": {},
   "outputs": [
    {
     "data": {
      "image/png": "[encoded data removed]",
      "text/plain": [
       "<Figure size 1080x864 with 1 Axes>"
      ]
     },
     "metadata": {
      "needs_background": "light"
     },
     "output_type": "display_data"
    }
   ],
   "source": [
    "plt.subplots(figsize=(15, 12))\n",
    "plt.grid(True)\n",
    "plt.plot(df_premium.date, df_premium.btc_avg.fillna(method='ffill'), color='gray')\n",
    "plt.title('Daily Price of Bitcoin', fontsize=18)\n",
    "plt.ylabel('Price in Dollars', fontsize=16)\n",
    "plt.xlabel('Date', fontsize=16);\n",
    "# plt.savefig('image_1.png');"
   ]
  },
  {
   "cell_type": "code",
   "execution_count": null,
   "metadata": {},
   "outputs": [],
   "source": [
    "#.summary?"
   ]
  }
 ],
 "metadata": {
  "kernelspec": {
   "display_name": "Python 3",
   "language": "python",
   "name": "python3"
  },
  "language_info": {
   "codemirror_mode": {
    "name": "ipython",
    "version": 3
   },
   "file_extension": ".py",
   "mimetype": "text/x-python",
   "name": "python",
   "nbconvert_exporter": "python",
   "pygments_lexer": "ipython3",
   "version": "3.7.6"
  }
 },
 "nbformat": 4,
 "nbformat_minor": 4
}
